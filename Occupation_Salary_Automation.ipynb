{
 "cells": [
  {
   "cell_type": "markdown",
   "metadata": {},
   "source": [
    "# EM206 Final Project\n",
    "## Occupation, Salary and Likelihood of Automation  "
   ]
  },
  {
   "cell_type": "markdown",
   "metadata": {},
   "source": [
    "### 1. Import Packages & Data"
   ]
  },
  {
   "cell_type": "code",
   "execution_count": 1,
   "metadata": {
    "ExecuteTime": {
     "end_time": "2021-03-14T09:46:36.631373Z",
     "start_time": "2021-03-14T09:46:34.933907Z"
    }
   },
   "outputs": [],
   "source": [
    "%matplotlib inline\n",
    "import numpy as np\n",
    "import pandas as pd\n",
    "import matplotlib.pyplot as plt\n",
    "import seaborn as sns\n",
    "sns.set(rc={'figure.figsize':(11.7,8.27)})"
   ]
  },
  {
   "cell_type": "code",
   "execution_count": 2,
   "metadata": {
    "ExecuteTime": {
     "end_time": "2021-03-14T09:46:36.996505Z",
     "start_time": "2021-03-14T09:46:36.632365Z"
    }
   },
   "outputs": [],
   "source": [
    "salary_path = 'occupation_salary.xlsx'\n",
    "salary_data = pd.read_excel(salary_path)\n",
    "automation_path = 'automation_data_by_state.csv'\n",
    "auto_data = pd.read_csv(automation_path, encoding = 'ISO-8859-1')"
   ]
  },
  {
   "cell_type": "markdown",
   "metadata": {},
   "source": [
    "Compared to the number of workers in each state, we are more interested in the population proportion of each occupation in states. Therefore, we need the US population data by states."
   ]
  },
  {
   "cell_type": "code",
   "execution_count": 3,
   "metadata": {
    "ExecuteTime": {
     "end_time": "2021-03-14T09:46:39.197108Z",
     "start_time": "2021-03-14T09:46:36.999383Z"
    }
   },
   "outputs": [
    {
     "data": {
      "text/plain": [
       "Index(['Rank', 'State', 'July 2019 Estimate', 'Percent of Total'], dtype='object')"
      ]
     },
     "execution_count": 3,
     "metadata": {},
     "output_type": "execute_result"
    }
   ],
   "source": [
    "link = 'https://www.infoplease.com/us/states/state-population-by-rank'\n",
    "w = pd.read_html(link, header=0)\n",
    "population_data = w[0]\n",
    "population_data.columns"
   ]
  },
  {
   "cell_type": "code",
   "execution_count": 4,
   "metadata": {
    "ExecuteTime": {
     "end_time": "2021-03-14T09:46:39.205060Z",
     "start_time": "2021-03-14T09:46:39.199072Z"
    }
   },
   "outputs": [],
   "source": [
    "# Rename the last two column\n",
    "population_data = population_data.rename({'July 2019 Estimate':'Estimate',\n",
    "                                          'Percent of Total':'Total'},\n",
    "                                         axis=1)"
   ]
  },
  {
   "cell_type": "markdown",
   "metadata": {},
   "source": [
    "### 2. Data Preperation"
   ]
  },
  {
   "cell_type": "markdown",
   "metadata": {},
   "source": [
    "#### 2.1. Salary"
   ]
  },
  {
   "cell_type": "code",
   "execution_count": 5,
   "metadata": {
    "ExecuteTime": {
     "end_time": "2021-03-14T09:46:39.247941Z",
     "start_time": "2021-03-14T09:46:39.207051Z"
    }
   },
   "outputs": [
    {
     "data": {
      "text/html": [
       "<div>\n",
       "<style scoped>\n",
       "    .dataframe tbody tr th:only-of-type {\n",
       "        vertical-align: middle;\n",
       "    }\n",
       "\n",
       "    .dataframe tbody tr th {\n",
       "        vertical-align: top;\n",
       "    }\n",
       "\n",
       "    .dataframe thead th {\n",
       "        text-align: right;\n",
       "    }\n",
       "</style>\n",
       "<table border=\"1\" class=\"dataframe\">\n",
       "  <thead>\n",
       "    <tr style=\"text-align: right;\">\n",
       "      <th></th>\n",
       "      <th>OCC_CODE</th>\n",
       "      <th>OCC_TITLE</th>\n",
       "      <th>OCC_GROUP</th>\n",
       "      <th>TOT_EMP</th>\n",
       "      <th>EMP_PRSE</th>\n",
       "      <th>H_MEAN</th>\n",
       "      <th>A_MEAN</th>\n",
       "      <th>MEAN_PRSE</th>\n",
       "      <th>H_PCT10</th>\n",
       "      <th>H_PCT25</th>\n",
       "      <th>H_MEDIAN</th>\n",
       "      <th>H_PCT75</th>\n",
       "      <th>H_PCT90</th>\n",
       "      <th>A_PCT10</th>\n",
       "      <th>A_PCT25</th>\n",
       "      <th>A_MEDIAN</th>\n",
       "      <th>A_PCT75</th>\n",
       "      <th>A_PCT90</th>\n",
       "      <th>ANNUAL</th>\n",
       "      <th>HOURLY</th>\n",
       "    </tr>\n",
       "  </thead>\n",
       "  <tbody>\n",
       "    <tr>\n",
       "      <th>0</th>\n",
       "      <td>00-0000</td>\n",
       "      <td>All Occupations</td>\n",
       "      <td>total</td>\n",
       "      <td>140400040</td>\n",
       "      <td>0.1</td>\n",
       "      <td>23.86</td>\n",
       "      <td>49630</td>\n",
       "      <td>0.1</td>\n",
       "      <td>9.27</td>\n",
       "      <td>11.6</td>\n",
       "      <td>17.81</td>\n",
       "      <td>28.92</td>\n",
       "      <td>45.45</td>\n",
       "      <td>19290</td>\n",
       "      <td>24140</td>\n",
       "      <td>37040</td>\n",
       "      <td>60150</td>\n",
       "      <td>94540</td>\n",
       "      <td>NaN</td>\n",
       "      <td>NaN</td>\n",
       "    </tr>\n",
       "    <tr>\n",
       "      <th>1</th>\n",
       "      <td>11-0000</td>\n",
       "      <td>Management Occupations</td>\n",
       "      <td>major</td>\n",
       "      <td>7090790</td>\n",
       "      <td>0.2</td>\n",
       "      <td>56.74</td>\n",
       "      <td>118020</td>\n",
       "      <td>0.1</td>\n",
       "      <td>22.76</td>\n",
       "      <td>32.99</td>\n",
       "      <td>48.46</td>\n",
       "      <td>70.72</td>\n",
       "      <td>#</td>\n",
       "      <td>47330</td>\n",
       "      <td>68630</td>\n",
       "      <td>100790</td>\n",
       "      <td>147090</td>\n",
       "      <td>#</td>\n",
       "      <td>NaN</td>\n",
       "      <td>NaN</td>\n",
       "    </tr>\n",
       "    <tr>\n",
       "      <th>2</th>\n",
       "      <td>11-1000</td>\n",
       "      <td>Top Executives</td>\n",
       "      <td>minor</td>\n",
       "      <td>2465800</td>\n",
       "      <td>0.2</td>\n",
       "      <td>61.03</td>\n",
       "      <td>126950</td>\n",
       "      <td>0.2</td>\n",
       "      <td>20.58</td>\n",
       "      <td>31.45</td>\n",
       "      <td>49.19</td>\n",
       "      <td>78.35</td>\n",
       "      <td>#</td>\n",
       "      <td>42810</td>\n",
       "      <td>65420</td>\n",
       "      <td>102320</td>\n",
       "      <td>162970</td>\n",
       "      <td>#</td>\n",
       "      <td>NaN</td>\n",
       "      <td>NaN</td>\n",
       "    </tr>\n",
       "    <tr>\n",
       "      <th>3</th>\n",
       "      <td>11-1010</td>\n",
       "      <td>Chief Executives</td>\n",
       "      <td>broad</td>\n",
       "      <td>223260</td>\n",
       "      <td>0.7</td>\n",
       "      <td>93.44</td>\n",
       "      <td>194350</td>\n",
       "      <td>0.4</td>\n",
       "      <td>33.55</td>\n",
       "      <td>54.86</td>\n",
       "      <td>87.12</td>\n",
       "      <td>#</td>\n",
       "      <td>#</td>\n",
       "      <td>69780</td>\n",
       "      <td>114100</td>\n",
       "      <td>181210</td>\n",
       "      <td>#</td>\n",
       "      <td>#</td>\n",
       "      <td>NaN</td>\n",
       "      <td>NaN</td>\n",
       "    </tr>\n",
       "    <tr>\n",
       "      <th>4</th>\n",
       "      <td>11-1011</td>\n",
       "      <td>Chief Executives</td>\n",
       "      <td>detailed</td>\n",
       "      <td>223260</td>\n",
       "      <td>0.7</td>\n",
       "      <td>93.44</td>\n",
       "      <td>194350</td>\n",
       "      <td>0.4</td>\n",
       "      <td>33.55</td>\n",
       "      <td>54.86</td>\n",
       "      <td>87.12</td>\n",
       "      <td>#</td>\n",
       "      <td>#</td>\n",
       "      <td>69780</td>\n",
       "      <td>114100</td>\n",
       "      <td>181210</td>\n",
       "      <td>#</td>\n",
       "      <td>#</td>\n",
       "      <td>NaN</td>\n",
       "      <td>NaN</td>\n",
       "    </tr>\n",
       "  </tbody>\n",
       "</table>\n",
       "</div>"
      ],
      "text/plain": [
       "  OCC_CODE               OCC_TITLE OCC_GROUP    TOT_EMP  EMP_PRSE H_MEAN  \\\n",
       "0  00-0000         All Occupations     total  140400040       0.1  23.86   \n",
       "1  11-0000  Management Occupations     major    7090790       0.2  56.74   \n",
       "2  11-1000          Top Executives     minor    2465800       0.2  61.03   \n",
       "3  11-1010        Chief Executives     broad     223260       0.7  93.44   \n",
       "4  11-1011        Chief Executives  detailed     223260       0.7  93.44   \n",
       "\n",
       "   A_MEAN  MEAN_PRSE H_PCT10 H_PCT25 H_MEDIAN H_PCT75 H_PCT90 A_PCT10 A_PCT25  \\\n",
       "0   49630        0.1    9.27    11.6    17.81   28.92   45.45   19290   24140   \n",
       "1  118020        0.1   22.76   32.99    48.46   70.72       #   47330   68630   \n",
       "2  126950        0.2   20.58   31.45    49.19   78.35       #   42810   65420   \n",
       "3  194350        0.4   33.55   54.86    87.12       #       #   69780  114100   \n",
       "4  194350        0.4   33.55   54.86    87.12       #       #   69780  114100   \n",
       "\n",
       "  A_MEDIAN A_PCT75 A_PCT90 ANNUAL HOURLY  \n",
       "0    37040   60150   94540    NaN    NaN  \n",
       "1   100790  147090       #    NaN    NaN  \n",
       "2   102320  162970       #    NaN    NaN  \n",
       "3   181210       #       #    NaN    NaN  \n",
       "4   181210       #       #    NaN    NaN  "
      ]
     },
     "execution_count": 5,
     "metadata": {},
     "output_type": "execute_result"
    }
   ],
   "source": [
    "salary_data.head()"
   ]
  },
  {
   "cell_type": "code",
   "execution_count": 6,
   "metadata": {
    "ExecuteTime": {
     "end_time": "2021-03-14T09:46:39.272877Z",
     "start_time": "2021-03-14T09:46:39.252931Z"
    }
   },
   "outputs": [
    {
     "name": "stdout",
     "output_type": "stream",
     "text": [
      "<class 'pandas.core.frame.DataFrame'>\n",
      "RangeIndex: 1394 entries, 0 to 1393\n",
      "Data columns (total 20 columns):\n",
      " #   Column     Non-Null Count  Dtype  \n",
      "---  ------     --------------  -----  \n",
      " 0   OCC_CODE   1394 non-null   object \n",
      " 1   OCC_TITLE  1394 non-null   object \n",
      " 2   OCC_GROUP  1394 non-null   object \n",
      " 3   TOT_EMP    1394 non-null   int64  \n",
      " 4   EMP_PRSE   1394 non-null   float64\n",
      " 5   H_MEAN     1394 non-null   object \n",
      " 6   A_MEAN     1394 non-null   object \n",
      " 7   MEAN_PRSE  1394 non-null   float64\n",
      " 8   H_PCT10    1394 non-null   object \n",
      " 9   H_PCT25    1394 non-null   object \n",
      " 10  H_MEDIAN   1394 non-null   object \n",
      " 11  H_PCT75    1394 non-null   object \n",
      " 12  H_PCT90    1394 non-null   object \n",
      " 13  A_PCT10    1394 non-null   object \n",
      " 14  A_PCT25    1394 non-null   object \n",
      " 15  A_MEDIAN   1394 non-null   object \n",
      " 16  A_PCT75    1394 non-null   object \n",
      " 17  A_PCT90    1394 non-null   object \n",
      " 18  ANNUAL     82 non-null     object \n",
      " 19  HOURLY     6 non-null      object \n",
      "dtypes: float64(2), int64(1), object(17)\n",
      "memory usage: 217.9+ KB\n"
     ]
    }
   ],
   "source": [
    "salary_data.info()"
   ]
  },
  {
   "cell_type": "markdown",
   "metadata": {},
   "source": [
    "**OCC_GROUP** - The category of the size of the group. Total > Major > Minor > Broad > Detailed  \n",
    "**EMP_PRSE** - Employment Relative Standard Error  \n",
    "**H_MEAN** - Mean hourly wage  \n",
    "**A_MEAN** - Mean annual wage  \n",
    "**MEAN_PRSE** - Mean wage Relative Standard Error  \n",
    "**H_PCT_10** - Hourly wage 10 percentile  \n",
    "**H_PCT_25** - Hourly wage 25 percentile  \n",
    "etc.."
   ]
  },
  {
   "cell_type": "markdown",
   "metadata": {},
   "source": [
    "From the data table information, we can see that the automation data table has no missing values. However, the 'ANNUAL' and 'HOURLY' attributes in the salary table have separately 1312 and 1318 missing values. Given that the salary table has 1394 observations in total, we can simply drop these 2 columns."
   ]
  },
  {
   "cell_type": "code",
   "execution_count": 7,
   "metadata": {
    "ExecuteTime": {
     "end_time": "2021-03-14T09:46:39.280853Z",
     "start_time": "2021-03-14T09:46:39.274870Z"
    }
   },
   "outputs": [],
   "source": [
    "salary_data = salary_data.drop(['ANNUAL','HOURLY'],axis=1)"
   ]
  },
  {
   "cell_type": "markdown",
   "metadata": {},
   "source": [
    "Some numeric numbers are stored as the object type in the Salary table. The reason is that the Salary table has hashtags and star signs in some columns."
   ]
  },
  {
   "cell_type": "code",
   "execution_count": 8,
   "metadata": {
    "ExecuteTime": {
     "end_time": "2021-03-14T09:46:39.301835Z",
     "start_time": "2021-03-14T09:46:39.287837Z"
    }
   },
   "outputs": [
    {
     "name": "stdout",
     "output_type": "stream",
     "text": [
      "The number of observations with hashtags or starsigns:  134\n"
     ]
    }
   ],
   "source": [
    "print(\"The number of observations with hashtags or starsigns: \",\n",
    "      len(salary_data[salary_data.iloc[:,3:].isin(['#','*']).any(axis=1)]))"
   ]
  },
  {
   "cell_type": "markdown",
   "metadata": {},
   "source": [
    "134 observations in the Salary table have at least one hashtag or star sign. Given that the Salary table has a total of 1394 observations, 134 is small. We can filter out these 134 observations. Also convert the object-type values into numerics."
   ]
  },
  {
   "cell_type": "code",
   "execution_count": 9,
   "metadata": {
    "ExecuteTime": {
     "end_time": "2021-03-14T09:46:39.326731Z",
     "start_time": "2021-03-14T09:46:39.305791Z"
    }
   },
   "outputs": [],
   "source": [
    "salary_data = salary_data[~salary_data.iloc[:,3:].isin(['#','*']).any(axis=1)].reset_index(drop=True)\n",
    "for col in salary_data.columns[3:]:\n",
    "    salary_data[col] = salary_data[col].astype(float)"
   ]
  },
  {
   "cell_type": "code",
   "execution_count": 10,
   "metadata": {
    "ExecuteTime": {
     "end_time": "2021-03-14T09:46:39.344683Z",
     "start_time": "2021-03-14T09:46:39.329723Z"
    }
   },
   "outputs": [
    {
     "name": "stdout",
     "output_type": "stream",
     "text": [
      "<class 'pandas.core.frame.DataFrame'>\n",
      "RangeIndex: 1260 entries, 0 to 1259\n",
      "Data columns (total 18 columns):\n",
      " #   Column     Non-Null Count  Dtype  \n",
      "---  ------     --------------  -----  \n",
      " 0   OCC_CODE   1260 non-null   object \n",
      " 1   OCC_TITLE  1260 non-null   object \n",
      " 2   OCC_GROUP  1260 non-null   object \n",
      " 3   TOT_EMP    1260 non-null   float64\n",
      " 4   EMP_PRSE   1260 non-null   float64\n",
      " 5   H_MEAN     1260 non-null   float64\n",
      " 6   A_MEAN     1260 non-null   float64\n",
      " 7   MEAN_PRSE  1260 non-null   float64\n",
      " 8   H_PCT10    1260 non-null   float64\n",
      " 9   H_PCT25    1260 non-null   float64\n",
      " 10  H_MEDIAN   1260 non-null   float64\n",
      " 11  H_PCT75    1260 non-null   float64\n",
      " 12  H_PCT90    1260 non-null   float64\n",
      " 13  A_PCT10    1260 non-null   float64\n",
      " 14  A_PCT25    1260 non-null   float64\n",
      " 15  A_MEDIAN   1260 non-null   float64\n",
      " 16  A_PCT75    1260 non-null   float64\n",
      " 17  A_PCT90    1260 non-null   float64\n",
      "dtypes: float64(15), object(3)\n",
      "memory usage: 177.3+ KB\n"
     ]
    }
   ],
   "source": [
    "salary_data.info()"
   ]
  },
  {
   "cell_type": "markdown",
   "metadata": {},
   "source": [
    "#### 2.2 Automation"
   ]
  },
  {
   "cell_type": "code",
   "execution_count": 11,
   "metadata": {
    "ExecuteTime": {
     "end_time": "2021-03-14T09:46:39.374603Z",
     "start_time": "2021-03-14T09:46:39.346678Z"
    }
   },
   "outputs": [
    {
     "data": {
      "text/html": [
       "<div>\n",
       "<style scoped>\n",
       "    .dataframe tbody tr th:only-of-type {\n",
       "        vertical-align: middle;\n",
       "    }\n",
       "\n",
       "    .dataframe tbody tr th {\n",
       "        vertical-align: top;\n",
       "    }\n",
       "\n",
       "    .dataframe thead th {\n",
       "        text-align: right;\n",
       "    }\n",
       "</style>\n",
       "<table border=\"1\" class=\"dataframe\">\n",
       "  <thead>\n",
       "    <tr style=\"text-align: right;\">\n",
       "      <th></th>\n",
       "      <th>SOC</th>\n",
       "      <th>Occupation</th>\n",
       "      <th>Probability</th>\n",
       "      <th>Alabama</th>\n",
       "      <th>Alaska</th>\n",
       "      <th>Arizona</th>\n",
       "      <th>Arkansas</th>\n",
       "      <th>California</th>\n",
       "      <th>Colorado</th>\n",
       "      <th>Connecticut</th>\n",
       "      <th>...</th>\n",
       "      <th>South Dakota</th>\n",
       "      <th>Tennessee</th>\n",
       "      <th>Texas</th>\n",
       "      <th>Utah</th>\n",
       "      <th>Vermont</th>\n",
       "      <th>Virginia</th>\n",
       "      <th>Washington</th>\n",
       "      <th>West Virginia</th>\n",
       "      <th>Wisconsin</th>\n",
       "      <th>Wyoming</th>\n",
       "    </tr>\n",
       "  </thead>\n",
       "  <tbody>\n",
       "    <tr>\n",
       "      <th>0</th>\n",
       "      <td>11-1011</td>\n",
       "      <td>Chief Executives</td>\n",
       "      <td>0.015</td>\n",
       "      <td>1030</td>\n",
       "      <td>760</td>\n",
       "      <td>5750</td>\n",
       "      <td>2710</td>\n",
       "      <td>31150</td>\n",
       "      <td>880</td>\n",
       "      <td>1410</td>\n",
       "      <td>...</td>\n",
       "      <td>560</td>\n",
       "      <td>5460</td>\n",
       "      <td>5890</td>\n",
       "      <td>3650</td>\n",
       "      <td>280</td>\n",
       "      <td>6320</td>\n",
       "      <td>5910</td>\n",
       "      <td>980</td>\n",
       "      <td>3740</td>\n",
       "      <td>160</td>\n",
       "    </tr>\n",
       "    <tr>\n",
       "      <th>1</th>\n",
       "      <td>11-1021</td>\n",
       "      <td>General and Operations Managers</td>\n",
       "      <td>0.160</td>\n",
       "      <td>26930</td>\n",
       "      <td>6490</td>\n",
       "      <td>43300</td>\n",
       "      <td>20680</td>\n",
       "      <td>261780</td>\n",
       "      <td>41540</td>\n",
       "      <td>33280</td>\n",
       "      <td>...</td>\n",
       "      <td>3730</td>\n",
       "      <td>44400</td>\n",
       "      <td>168610</td>\n",
       "      <td>36200</td>\n",
       "      <td>2760</td>\n",
       "      <td>52380</td>\n",
       "      <td>43760</td>\n",
       "      <td>10200</td>\n",
       "      <td>32350</td>\n",
       "      <td>4840</td>\n",
       "    </tr>\n",
       "    <tr>\n",
       "      <th>2</th>\n",
       "      <td>11-2011</td>\n",
       "      <td>Advertising and Promotions Managers</td>\n",
       "      <td>0.039</td>\n",
       "      <td>50</td>\n",
       "      <td>40</td>\n",
       "      <td>470</td>\n",
       "      <td>110</td>\n",
       "      <td>3760</td>\n",
       "      <td>480</td>\n",
       "      <td>300</td>\n",
       "      <td>...</td>\n",
       "      <td>0</td>\n",
       "      <td>670</td>\n",
       "      <td>1210</td>\n",
       "      <td>380</td>\n",
       "      <td>40</td>\n",
       "      <td>240</td>\n",
       "      <td>640</td>\n",
       "      <td>40</td>\n",
       "      <td>200</td>\n",
       "      <td>0</td>\n",
       "    </tr>\n",
       "    <tr>\n",
       "      <th>3</th>\n",
       "      <td>11-2021</td>\n",
       "      <td>Marketing Managers</td>\n",
       "      <td>0.014</td>\n",
       "      <td>530</td>\n",
       "      <td>200</td>\n",
       "      <td>4790</td>\n",
       "      <td>1090</td>\n",
       "      <td>33390</td>\n",
       "      <td>3060</td>\n",
       "      <td>4970</td>\n",
       "      <td>...</td>\n",
       "      <td>60</td>\n",
       "      <td>3400</td>\n",
       "      <td>9570</td>\n",
       "      <td>2320</td>\n",
       "      <td>380</td>\n",
       "      <td>3840</td>\n",
       "      <td>5830</td>\n",
       "      <td>260</td>\n",
       "      <td>2980</td>\n",
       "      <td>30</td>\n",
       "    </tr>\n",
       "    <tr>\n",
       "      <th>4</th>\n",
       "      <td>11-2022</td>\n",
       "      <td>Sales Managers</td>\n",
       "      <td>0.013</td>\n",
       "      <td>2510</td>\n",
       "      <td>400</td>\n",
       "      <td>10650</td>\n",
       "      <td>2650</td>\n",
       "      <td>69180</td>\n",
       "      <td>4570</td>\n",
       "      <td>7040</td>\n",
       "      <td>...</td>\n",
       "      <td>300</td>\n",
       "      <td>8890</td>\n",
       "      <td>22310</td>\n",
       "      <td>3360</td>\n",
       "      <td>480</td>\n",
       "      <td>5360</td>\n",
       "      <td>7390</td>\n",
       "      <td>600</td>\n",
       "      <td>5730</td>\n",
       "      <td>180</td>\n",
       "    </tr>\n",
       "  </tbody>\n",
       "</table>\n",
       "<p>5 rows × 54 columns</p>\n",
       "</div>"
      ],
      "text/plain": [
       "       SOC                           Occupation  Probability  Alabama  Alaska  \\\n",
       "0  11-1011                     Chief Executives        0.015     1030     760   \n",
       "1  11-1021      General and Operations Managers        0.160    26930    6490   \n",
       "2  11-2011  Advertising and Promotions Managers        0.039       50      40   \n",
       "3  11-2021                   Marketing Managers        0.014      530     200   \n",
       "4  11-2022                       Sales Managers        0.013     2510     400   \n",
       "\n",
       "   Arizona  Arkansas  California  Colorado  Connecticut  ...  South Dakota  \\\n",
       "0     5750      2710       31150       880         1410  ...           560   \n",
       "1    43300     20680      261780     41540        33280  ...          3730   \n",
       "2      470       110        3760       480          300  ...             0   \n",
       "3     4790      1090       33390      3060         4970  ...            60   \n",
       "4    10650      2650       69180      4570         7040  ...           300   \n",
       "\n",
       "   Tennessee   Texas   Utah  Vermont  Virginia  Washington  West Virginia  \\\n",
       "0       5460    5890   3650      280      6320        5910            980   \n",
       "1      44400  168610  36200     2760     52380       43760          10200   \n",
       "2        670    1210    380       40       240         640             40   \n",
       "3       3400    9570   2320      380      3840        5830            260   \n",
       "4       8890   22310   3360      480      5360        7390            600   \n",
       "\n",
       "   Wisconsin  Wyoming  \n",
       "0       3740      160  \n",
       "1      32350     4840  \n",
       "2        200        0  \n",
       "3       2980       30  \n",
       "4       5730      180  \n",
       "\n",
       "[5 rows x 54 columns]"
      ]
     },
     "execution_count": 11,
     "metadata": {},
     "output_type": "execute_result"
    }
   ],
   "source": [
    "auto_data.head()"
   ]
  },
  {
   "cell_type": "markdown",
   "metadata": {},
   "source": [
    "**Probability** - The probability of computerisation  \n",
    "**Alabama** - The number of workers in Alabama  \n",
    "etc.."
   ]
  },
  {
   "cell_type": "markdown",
   "metadata": {},
   "source": [
    "Consider adding a new column of the total number of workers in the US. Also, filter out observations with all values in zero. 19 observations have all values in zero."
   ]
  },
  {
   "cell_type": "code",
   "execution_count": 12,
   "metadata": {
    "ExecuteTime": {
     "end_time": "2021-03-14T09:46:39.383579Z",
     "start_time": "2021-03-14T09:46:39.376597Z"
    }
   },
   "outputs": [
    {
     "name": "stdout",
     "output_type": "stream",
     "text": [
      "The number of observations with all values in zero:  19\n"
     ]
    }
   ],
   "source": [
    "print(\"The number of observations with all values in zero: \",\n",
    "      len(auto_data[(auto_data.iloc[:,3:]==0).all(axis=1)]))"
   ]
  },
  {
   "cell_type": "code",
   "execution_count": 13,
   "metadata": {
    "ExecuteTime": {
     "end_time": "2021-03-14T09:46:39.412501Z",
     "start_time": "2021-03-14T09:46:39.386574Z"
    }
   },
   "outputs": [
    {
     "name": "stdout",
     "output_type": "stream",
     "text": [
      "<class 'pandas.core.frame.DataFrame'>\n",
      "RangeIndex: 683 entries, 0 to 682\n",
      "Data columns (total 55 columns):\n",
      " #   Column                Non-Null Count  Dtype  \n",
      "---  ------                --------------  -----  \n",
      " 0   SOC                   683 non-null    object \n",
      " 1   Occupation            683 non-null    object \n",
      " 2   Probability           683 non-null    float64\n",
      " 3   Alabama               683 non-null    int64  \n",
      " 4   Alaska                683 non-null    int64  \n",
      " 5   Arizona               683 non-null    int64  \n",
      " 6   Arkansas              683 non-null    int64  \n",
      " 7   California            683 non-null    int64  \n",
      " 8   Colorado              683 non-null    int64  \n",
      " 9   Connecticut           683 non-null    int64  \n",
      " 10  Delaware              683 non-null    int64  \n",
      " 11  District of Columbia  683 non-null    int64  \n",
      " 12  Florida               683 non-null    int64  \n",
      " 13  Georgia               683 non-null    int64  \n",
      " 14  Hawaii                683 non-null    int64  \n",
      " 15  Idaho                 683 non-null    int64  \n",
      " 16  Illinois              683 non-null    int64  \n",
      " 17  Indiana               683 non-null    int64  \n",
      " 18  Iowa                  683 non-null    int64  \n",
      " 19  Kansas                683 non-null    int64  \n",
      " 20  Kentucky              683 non-null    int64  \n",
      " 21  Louisiana             683 non-null    int64  \n",
      " 22  Maine                 683 non-null    int64  \n",
      " 23  Maryland              683 non-null    int64  \n",
      " 24  Massachusetts         683 non-null    int64  \n",
      " 25  Michigan              683 non-null    int64  \n",
      " 26  Minnesota             683 non-null    int64  \n",
      " 27  Mississippi           683 non-null    int64  \n",
      " 28  Missouri              683 non-null    int64  \n",
      " 29  Montana               683 non-null    int64  \n",
      " 30  Nebraska              683 non-null    int64  \n",
      " 31  Nevada                683 non-null    int64  \n",
      " 32  New Hampshire         683 non-null    int64  \n",
      " 33  New Jersey            683 non-null    int64  \n",
      " 34  New Mexico            683 non-null    int64  \n",
      " 35  New York              683 non-null    int64  \n",
      " 36  North Carolina        683 non-null    int64  \n",
      " 37  North Dakota          683 non-null    int64  \n",
      " 38  Ohio                  683 non-null    int64  \n",
      " 39  Oklahoma              683 non-null    int64  \n",
      " 40  Oregon                683 non-null    int64  \n",
      " 41  Pennsylvania          683 non-null    int64  \n",
      " 42  Rhode Island          683 non-null    int64  \n",
      " 43  South Carolina        683 non-null    int64  \n",
      " 44  South Dakota          683 non-null    int64  \n",
      " 45  Tennessee             683 non-null    int64  \n",
      " 46  Texas                 683 non-null    int64  \n",
      " 47  Utah                  683 non-null    int64  \n",
      " 48  Vermont               683 non-null    int64  \n",
      " 49  Virginia              683 non-null    int64  \n",
      " 50  Washington            683 non-null    int64  \n",
      " 51  West Virginia         683 non-null    int64  \n",
      " 52  Wisconsin             683 non-null    int64  \n",
      " 53  Wyoming               683 non-null    int64  \n",
      " 54  total_workers         683 non-null    int64  \n",
      "dtypes: float64(1), int64(52), object(2)\n",
      "memory usage: 293.6+ KB\n"
     ]
    }
   ],
   "source": [
    "auto_data['total_workers'] = auto_data.iloc[:,3:].sum(axis=1)\n",
    "auto_data = auto_data.loc[~(auto_data.iloc[:,3:]==0).all(axis=1)].reset_index(drop=True)\n",
    "auto_data.info()"
   ]
  },
  {
   "cell_type": "markdown",
   "metadata": {},
   "source": [
    "#### 2.3. Population by States"
   ]
  },
  {
   "cell_type": "code",
   "execution_count": 14,
   "metadata": {
    "ExecuteTime": {
     "end_time": "2021-03-14T09:46:39.427461Z",
     "start_time": "2021-03-14T09:46:39.414496Z"
    }
   },
   "outputs": [
    {
     "data": {
      "text/html": [
       "<div>\n",
       "<style scoped>\n",
       "    .dataframe tbody tr th:only-of-type {\n",
       "        vertical-align: middle;\n",
       "    }\n",
       "\n",
       "    .dataframe tbody tr th {\n",
       "        vertical-align: top;\n",
       "    }\n",
       "\n",
       "    .dataframe thead th {\n",
       "        text-align: right;\n",
       "    }\n",
       "</style>\n",
       "<table border=\"1\" class=\"dataframe\">\n",
       "  <thead>\n",
       "    <tr style=\"text-align: right;\">\n",
       "      <th></th>\n",
       "      <th>Rank</th>\n",
       "      <th>State</th>\n",
       "      <th>Estimate</th>\n",
       "      <th>Total</th>\n",
       "    </tr>\n",
       "  </thead>\n",
       "  <tbody>\n",
       "    <tr>\n",
       "      <th>0</th>\n",
       "      <td>1.0</td>\n",
       "      <td>California</td>\n",
       "      <td>39512223</td>\n",
       "      <td>11.91%</td>\n",
       "    </tr>\n",
       "    <tr>\n",
       "      <th>1</th>\n",
       "      <td>2.0</td>\n",
       "      <td>Texas</td>\n",
       "      <td>28995881</td>\n",
       "      <td>8.74%</td>\n",
       "    </tr>\n",
       "    <tr>\n",
       "      <th>2</th>\n",
       "      <td>3.0</td>\n",
       "      <td>Florida</td>\n",
       "      <td>21477737</td>\n",
       "      <td>6.47%</td>\n",
       "    </tr>\n",
       "    <tr>\n",
       "      <th>3</th>\n",
       "      <td>4.0</td>\n",
       "      <td>New York</td>\n",
       "      <td>19453561</td>\n",
       "      <td>5.86%</td>\n",
       "    </tr>\n",
       "    <tr>\n",
       "      <th>4</th>\n",
       "      <td>5.0</td>\n",
       "      <td>Illinois</td>\n",
       "      <td>12671821</td>\n",
       "      <td>3.86%</td>\n",
       "    </tr>\n",
       "  </tbody>\n",
       "</table>\n",
       "</div>"
      ],
      "text/plain": [
       "   Rank       State  Estimate   Total\n",
       "0   1.0  California  39512223  11.91%\n",
       "1   2.0       Texas  28995881   8.74%\n",
       "2   3.0     Florida  21477737   6.47%\n",
       "3   4.0    New York  19453561   5.86%\n",
       "4   5.0    Illinois  12671821   3.86%"
      ]
     },
     "execution_count": 14,
     "metadata": {},
     "output_type": "execute_result"
    }
   ],
   "source": [
    "population_data.head()"
   ]
  },
  {
   "cell_type": "code",
   "execution_count": 15,
   "metadata": {
    "ExecuteTime": {
     "end_time": "2021-03-14T09:46:39.447408Z",
     "start_time": "2021-03-14T09:46:39.429456Z"
    }
   },
   "outputs": [
    {
     "data": {
      "text/html": [
       "<div>\n",
       "<style scoped>\n",
       "    .dataframe tbody tr th:only-of-type {\n",
       "        vertical-align: middle;\n",
       "    }\n",
       "\n",
       "    .dataframe tbody tr th {\n",
       "        vertical-align: top;\n",
       "    }\n",
       "\n",
       "    .dataframe thead th {\n",
       "        text-align: right;\n",
       "    }\n",
       "</style>\n",
       "<table border=\"1\" class=\"dataframe\">\n",
       "  <thead>\n",
       "    <tr style=\"text-align: right;\">\n",
       "      <th></th>\n",
       "      <th>Rank</th>\n",
       "      <th>State</th>\n",
       "      <th>Estimate</th>\n",
       "      <th>Total</th>\n",
       "    </tr>\n",
       "  </thead>\n",
       "  <tbody>\n",
       "    <tr>\n",
       "      <th>47</th>\n",
       "      <td>48.0</td>\n",
       "      <td>Alaska</td>\n",
       "      <td>731545</td>\n",
       "      <td>0.22%</td>\n",
       "    </tr>\n",
       "    <tr>\n",
       "      <th>48</th>\n",
       "      <td>49.0</td>\n",
       "      <td>DC</td>\n",
       "      <td>705749</td>\n",
       "      <td>0.21%</td>\n",
       "    </tr>\n",
       "    <tr>\n",
       "      <th>49</th>\n",
       "      <td>50.0</td>\n",
       "      <td>Vermont</td>\n",
       "      <td>623989</td>\n",
       "      <td>0.19%</td>\n",
       "    </tr>\n",
       "    <tr>\n",
       "      <th>50</th>\n",
       "      <td>51.0</td>\n",
       "      <td>Wyoming</td>\n",
       "      <td>578759</td>\n",
       "      <td>0.17%</td>\n",
       "    </tr>\n",
       "    <tr>\n",
       "      <th>51</th>\n",
       "      <td>NaN</td>\n",
       "      <td>Total U.S.</td>\n",
       "      <td>321418820</td>\n",
       "      <td>NaN</td>\n",
       "    </tr>\n",
       "  </tbody>\n",
       "</table>\n",
       "</div>"
      ],
      "text/plain": [
       "    Rank       State   Estimate  Total\n",
       "47  48.0      Alaska     731545  0.22%\n",
       "48  49.0          DC     705749  0.21%\n",
       "49  50.0     Vermont     623989  0.19%\n",
       "50  51.0     Wyoming     578759  0.17%\n",
       "51   NaN  Total U.S.  321418820    NaN"
      ]
     },
     "execution_count": 15,
     "metadata": {},
     "output_type": "execute_result"
    }
   ],
   "source": [
    "population_data.tail()"
   ]
  },
  {
   "cell_type": "markdown",
   "metadata": {},
   "source": [
    "Instead of keeping the \"Total U.S.\" row in the data table, we can simply drop the row and store the total population as a variable."
   ]
  },
  {
   "cell_type": "code",
   "execution_count": 16,
   "metadata": {
    "ExecuteTime": {
     "end_time": "2021-03-14T09:46:39.457381Z",
     "start_time": "2021-03-14T09:46:39.449402Z"
    }
   },
   "outputs": [],
   "source": [
    "total_population = population_data.Estimate.get(key=51)\n",
    "population_data = population_data.drop(51)"
   ]
  },
  {
   "cell_type": "code",
   "execution_count": 17,
   "metadata": {
    "ExecuteTime": {
     "end_time": "2021-03-14T09:46:39.465360Z",
     "start_time": "2021-03-14T09:46:39.459377Z"
    }
   },
   "outputs": [],
   "source": [
    "# Convert the data type of Rank into integer\n",
    "population_data['Rank'] = population_data['Rank'].astype(int)"
   ]
  },
  {
   "cell_type": "markdown",
   "metadata": {},
   "source": [
    "#### 2.4. Compatibility"
   ]
  },
  {
   "cell_type": "markdown",
   "metadata": {},
   "source": [
    "Salary table and Automation table both have occupation code and occupation name."
   ]
  },
  {
   "cell_type": "code",
   "execution_count": 18,
   "metadata": {
    "ExecuteTime": {
     "end_time": "2021-03-14T09:46:39.481316Z",
     "start_time": "2021-03-14T09:46:39.467354Z"
    }
   },
   "outputs": [
    {
     "data": {
      "text/plain": [
       "0.9472913616398243"
      ]
     },
     "execution_count": 18,
     "metadata": {},
     "output_type": "execute_result"
    }
   ],
   "source": [
    "auto_code = pd.unique(auto_data.SOC)\n",
    "salary_code = pd.unique(salary_data.OCC_CODE)\n",
    "intersect_code = np.intersect1d(auto_code,salary_code)\n",
    "len(intersect_code)/len(auto_code)"
   ]
  },
  {
   "cell_type": "code",
   "execution_count": 19,
   "metadata": {
    "ExecuteTime": {
     "end_time": "2021-03-14T09:46:39.494282Z",
     "start_time": "2021-03-14T09:46:39.483313Z"
    }
   },
   "outputs": [
    {
     "data": {
      "text/plain": [
       "0.6603221083455344"
      ]
     },
     "execution_count": 19,
     "metadata": {},
     "output_type": "execute_result"
    }
   ],
   "source": [
    "auto_name = pd.unique(auto_data.Occupation)\n",
    "salary_name = pd.unique(salary_data.OCC_TITLE)\n",
    "intersect_name = np.intersect1d(auto_name,salary_name)\n",
    "len(intersect_name)/len(auto_name)"
   ]
  },
  {
   "cell_type": "markdown",
   "metadata": {
    "ExecuteTime": {
     "end_time": "2021-02-28T12:05:21.445955Z",
     "start_time": "2021-02-28T12:05:21.435982Z"
    }
   },
   "source": [
    "94% of the occupation code in the automation tables are also in the salary table. Thus, we can join the two tables using occupation code. However, only 66% of the names in the automation table can also be found in the salary table. The reason is that the automation table uses semicolons instead of commas. Therefore, we can simply replace the semicolons with commas."
   ]
  },
  {
   "cell_type": "code",
   "execution_count": 20,
   "metadata": {
    "ExecuteTime": {
     "end_time": "2021-03-14T09:46:39.506259Z",
     "start_time": "2021-03-14T09:46:39.496278Z"
    }
   },
   "outputs": [
    {
     "data": {
      "text/plain": [
       "array(['Transportation, Storage, and Distribution Managers',\n",
       "       'Farmers, Ranchers, and Other Agricultural Managers',\n",
       "       'Education Administrators, Preschool and Childcare Center/Program',\n",
       "       'Education Administrators, Postsecondary',\n",
       "       'Education Administrators, All Other',\n",
       "       'Property, Real Estate, and Community Association Managers',\n",
       "       'Managers, All Other',\n",
       "       'Agents and Business Managers of Artists, Performers, and Athletes',\n",
       "       'Buyers and Purchasing Agents, Farm Products',\n",
       "       'Wholesale and Retail Buyers, Except Farm Products',\n",
       "       'Purchasing Agents, Except Wholesale, Retail, and Farm Products',\n",
       "       'Claims Adjusters, Appraisers, Examiners, and Investigators',\n",
       "       'Claims Adjusters, Examiners, and Investigators',\n",
       "       'Insurance Appraisers, Auto Damage',\n",
       "       'Meeting, Convention, and Event Planners',\n",
       "       'Compensation, Benefits, and Job Analysis Specialists',\n",
       "       'Business Operations Specialists, All Other',\n",
       "       'Tax Examiners, Collectors and Preparers, and Revenue Agents',\n",
       "       'Tax Examiners and Collectors, and Revenue Agents',\n",
       "       'Financial Specialists, All Other',\n",
       "       'Software Developers, Applications',\n",
       "       'Software Developers, Systems Software',\n",
       "       'Computer Occupations, All Other',\n",
       "       'Mathematical Science Occupations, All Other',\n",
       "       'Architects, Surveyors, and Cartographers',\n",
       "       'Architects, Except Naval',\n",
       "       'Architects, Except Landscape and Naval',\n",
       "       'Surveyors, Cartographers, and Photogrammetrists',\n",
       "       'Electronics Engineers, Except Computer',\n",
       "       'Industrial Engineers, Including Health and Safety',\n",
       "       'Health and Safety Engineers, Except Mining Safety Engineers and Inspectors',\n",
       "       'Mining and Geological Engineers, Including Mining Safety Engineers',\n",
       "       'Engineers, All Other',\n",
       "       'Drafters, Engineering Technicians, and Mapping Technicians',\n",
       "       'Drafters, All Other', 'Engineering Technicians, Except Drafters',\n",
       "       'Engineering Technicians, Except Drafters, All Other',\n",
       "       'Life, Physical, and Social Science Occupations',\n",
       "       'Biological Scientists, All Other',\n",
       "       'Medical Scientists, Except Epidemiologists',\n",
       "       'Life Scientists, All Other',\n",
       "       'Environmental Scientists and Specialists, Including Health',\n",
       "       'Geoscientists, Except Hydrologists and Geographers',\n",
       "       'Physical Scientists, All Other',\n",
       "       'Clinical, Counseling, and School Psychologists',\n",
       "       'Psychologists, All Other',\n",
       "       'Social Scientists and Related Workers, All Other',\n",
       "       'Life, Physical, and Social Science Technicians',\n",
       "       'Miscellaneous Life, Physical, and Social Science Technicians',\n",
       "       'Environmental Science and Protection Technicians, Including Health',\n",
       "       'Life, Physical, and Social Science Technicians, All Other',\n",
       "       'Counselors, Social Workers, and Other Community and Social Service Specialists',\n",
       "       'Educational, Guidance, School, and Vocational Counselors',\n",
       "       'Counselors, All Other',\n",
       "       'Child, Family, and School Social Workers',\n",
       "       'Social Workers, All Other',\n",
       "       'Community and Social Service Specialists, All Other',\n",
       "       'Directors, Religious Activities and Education',\n",
       "       'Religious Workers, All Other',\n",
       "       'Judges, Magistrates, and Other Judicial Workers',\n",
       "       'Administrative Law Judges, Adjudicators, and Hearing Officers',\n",
       "       'Arbitrators, Mediators, and Conciliators',\n",
       "       'Judges, Magistrate Judges, and Magistrates',\n",
       "       'Title Examiners, Abstractors, and Searchers',\n",
       "       'Legal Support Workers, All Other',\n",
       "       'Education, Training, and Library Occupations',\n",
       "       'Vocational Education Teachers, Postsecondary',\n",
       "       'Preschool Teachers, Except Special Education',\n",
       "       'Librarians, Curators, and Archivists',\n",
       "       'Archivists, Curators, and Museum Technicians',\n",
       "       'Miscellaneous Education, Training, and Library Workers',\n",
       "       'Education, Training, and Library Workers, All Other',\n",
       "       'Arts, Design, Entertainment, Sports, and Media Occupations',\n",
       "       'Fine Artists, Including Painters, Sculptors, and Illustrators',\n",
       "       'Artists and Related Workers, All Other', 'Designers, All Other',\n",
       "       'Entertainers and Performers, Sports and Related Workers',\n",
       "       'Actors, Producers, and Directors',\n",
       "       'News Analysts, Reporters and Correspondents',\n",
       "       'Media and Communication Workers, All Other',\n",
       "       'Television, Video, and Motion Picture Camera Operators and Editors',\n",
       "       'Camera Operators, Television, Video, and Motion Picture',\n",
       "       'Media and Communication Equipment Workers, All Other',\n",
       "       'Therapists, All Other',\n",
       "       'Health Diagnosing and Treating Practitioners, All Other',\n",
       "       'Opticians, Dispensing',\n",
       "       'Health Technologists and Technicians, All Other',\n",
       "       'Healthcare Practitioners and Technical Workers, All Other',\n",
       "       'Nursing, Psychiatric, and Home Health Aides',\n",
       "       'Healthcare Support Workers, All Other',\n",
       "       'Miscellaneous First-Line Supervisors, Protective Service Workers',\n",
       "       'First-Line Supervisors of Protective Service Workers, All Other',\n",
       "       'Bailiffs, Correctional Officers, and Jailers',\n",
       "       'Lifeguards, Ski Patrol, and Other Recreational Protective Service Workers',\n",
       "       'Protective Service Workers, All Other', 'Cooks, Fast Food',\n",
       "       'Cooks, Institution and Cafeteria', 'Cooks, Private Household',\n",
       "       'Cooks, Restaurant', 'Cooks, Short Order', 'Cooks, All Other',\n",
       "       'Combined Food Preparation and Serving Workers, Including Fast Food',\n",
       "       'Counter Attendants, Cafeteria, Food Concession, and Coffee Shop',\n",
       "       'Food Servers, Nonrestaurant',\n",
       "       'Hosts and Hostesses, Restaurant, Lounge, and Coffee Shop',\n",
       "       'Food Preparation and Serving Related Workers, All Other',\n",
       "       'First-Line Supervisors of Landscaping, Lawn Service, and Groundskeeping Workers',\n",
       "       'Janitors and Cleaners, Except Maids and Housekeeping Cleaners',\n",
       "       'Building Cleaning Workers, All Other',\n",
       "       'Pesticide Handlers, Sprayers, and Applicators, Vegetation',\n",
       "       'Grounds Maintenance Workers, All Other',\n",
       "       'Gaming Service Workers, All Other',\n",
       "       'Ushers, Lobby Attendants, and Ticket Takers',\n",
       "       'Locker Room, Coatroom, and Dressing Room Attendants',\n",
       "       'Entertainment Attendants and Related Workers, All Other',\n",
       "       'Morticians, Undertakers, and Funeral Directors',\n",
       "       'Barbers, Hairdressers, Hairstylists and Cosmetologists',\n",
       "       'Hairdressers, Hairstylists, and Cosmetologists',\n",
       "       'Makeup Artists, Theatrical and Performance',\n",
       "       'Baggage Porters, Bellhops, and Concierges',\n",
       "       'Personal Care and Service Workers, All Other',\n",
       "       'Sales Representatives, Services',\n",
       "       'Miscellaneous Sales Representatives, Services',\n",
       "       'Sales Representatives, Services, All Other',\n",
       "       'Sales Representatives, Wholesale and Manufacturing',\n",
       "       'Sales Representatives, Wholesale and Manufacturing, Technical and Scientific Products',\n",
       "       'Sales Representatives, Wholesale and Manufacturing, Except Technical and Scientific Products',\n",
       "       'Models, Demonstrators, and Product Promoters',\n",
       "       'Door-to-Door Sales Workers, News and Street Vendors, and Related Workers',\n",
       "       'Sales and Related Workers, All Other',\n",
       "       'Switchboard Operators, Including Answering Service',\n",
       "       'Communications Equipment Operators, All Other',\n",
       "       'Bookkeeping, Accounting, and Auditing Clerks',\n",
       "       'Financial Clerks, All Other',\n",
       "       'Court, Municipal, and License Clerks',\n",
       "       'Credit Authorizers, Checkers, and Clerks',\n",
       "       'Eligibility Interviewers, Government Programs',\n",
       "       'Hotel, Motel, and Resort Desk Clerks',\n",
       "       'Interviewers, Except Eligibility and Loan',\n",
       "       'Library Assistants, Clerical',\n",
       "       'Human Resources Assistants, Except Payroll and Timekeeping',\n",
       "       'Information and Record Clerks, All Other',\n",
       "       'Material Recording, Scheduling, Dispatching, and Distributing Workers',\n",
       "       'Police, Fire, and Ambulance Dispatchers',\n",
       "       'Dispatchers, Except Police, Fire, and Ambulance',\n",
       "       'Meter Readers, Utilities',\n",
       "       'Postal Service Mail Sorters, Processors, and Processing Machine Operators',\n",
       "       'Production, Planning, and Expediting Clerks',\n",
       "       'Shipping, Receiving, and Traffic Clerks',\n",
       "       'Weighers, Measurers, Checkers, and Samplers, Recordkeeping',\n",
       "       'Secretaries and Administrative Assistants, Except Legal, Medical, and Executive',\n",
       "       'Mail Clerks and Mail Machine Operators, Except Postal Service',\n",
       "       'Office Clerks, General',\n",
       "       'Office Machine Operators, Except Computer',\n",
       "       'Office and Administrative Support Workers, All Other',\n",
       "       'Farming, Fishing, and Forestry Occupations',\n",
       "       'Supervisors of Farming, Fishing, and Forestry Workers',\n",
       "       'First-Line Supervisors of Farming, Fishing, and Forestry Workers',\n",
       "       'Graders and Sorters, Agricultural Products',\n",
       "       'Farmworkers and Laborers, Crop, Nursery, and Greenhouse',\n",
       "       'Farmworkers, Farm, Ranch, and Aquacultural Animals',\n",
       "       'Agricultural Workers, All Other',\n",
       "       'Forest, Conservation, and Logging Workers',\n",
       "       'Logging Workers, All Other',\n",
       "       'Brickmasons, Blockmasons, and Stonemasons',\n",
       "       'Carpet, Floor, and Tile Installers and Finishers',\n",
       "       'Floor Layers, Except Carpet, Wood, and Hard Tiles',\n",
       "       'Cement Masons, Concrete Finishers, and Terrazzo Workers',\n",
       "       'Paving, Surfacing, and Tamping Equipment Operators',\n",
       "       'Drywall Installers, Ceiling Tile Installers, and Tapers',\n",
       "       'Insulation Workers, Floor, Ceiling, and Wall',\n",
       "       'Insulation Workers, Mechanical',\n",
       "       'Painters, Construction and Maintenance',\n",
       "       'Pipelayers, Plumbers, Pipefitters, and Steamfitters',\n",
       "       'Plumbers, Pipefitters, and Steamfitters',\n",
       "       'Helpers, Construction Trades',\n",
       "       'Helpers--Brickmasons, Blockmasons, Stonemasons, and Tile and Marble Setters',\n",
       "       'Helpers--Painters, Paperhangers, Plasterers, and Stucco Masons',\n",
       "       'Helpers--Pipelayers, Plumbers, Pipefitters, and Steamfitters',\n",
       "       'Helpers, Construction Trades, All Other',\n",
       "       'Construction and Related Workers, All Other',\n",
       "       'Derrick, Rotary Drill, and Service Unit Operators, Oil, Gas, and Mining',\n",
       "       'Derrick Operators, Oil and Gas',\n",
       "       'Rotary Drill Operators, Oil and Gas',\n",
       "       'Service Unit Operators, Oil, Gas, and Mining',\n",
       "       'Earth Drillers, Except Oil and Gas',\n",
       "       'Explosives Workers, Ordnance Handling Experts, and Blasters',\n",
       "       'Mining Machine Operators, All Other', 'Rock Splitters, Quarry',\n",
       "       'Roof Bolters, Mining', 'Roustabouts, Oil and Gas',\n",
       "       'Extraction Workers, All Other',\n",
       "       'Installation, Maintenance, and Repair Occupations',\n",
       "       'Supervisors of Installation, Maintenance, and Repair Workers',\n",
       "       'First-Line Supervisors of Mechanics, Installers, and Repairers',\n",
       "       'Electrical and Electronic Equipment Mechanics, Installers, and Repairers',\n",
       "       'Computer, Automated Teller, and Office Machine Repairers',\n",
       "       'Radio, Cellular, and Tower Equipment Installers and Repairers',\n",
       "       'Telecommunications Equipment Installers and Repairers, Except Line Installers',\n",
       "       'Miscellaneous Electrical and Electronic Equipment Mechanics, Installers, and Repairers',\n",
       "       'Electric Motor, Power Tool, and Related Repairers',\n",
       "       'Electrical and Electronics Installers and Repairers, Transportation Equipment',\n",
       "       'Electrical and Electronics Repairers, Commercial and Industrial Equipment',\n",
       "       'Electrical and Electronics Repairers, Powerhouse, Substation, and Relay',\n",
       "       'Electronic Equipment Installers and Repairers, Motor Vehicles',\n",
       "       'Vehicle and Mobile Equipment Mechanics, Installers, and Repairers',\n",
       "       'Mobile Heavy Equipment Mechanics, Except Engines',\n",
       "       'Miscellaneous Vehicle and Mobile Equipment Mechanics, Installers, and Repairers',\n",
       "       'Other Installation, Maintenance, and Repair Occupations',\n",
       "       'Control and Valve Installers and Repairers, Except Mechanical Door',\n",
       "       'Heating, Air Conditioning, and Refrigeration Mechanics and Installers',\n",
       "       'Industrial Machinery Installation, Repair, and Maintenance Workers',\n",
       "       'Maintenance Workers, Machinery',\n",
       "       'Refractory Materials Repairers, Except Brickmasons',\n",
       "       'Precision Instrument and Equipment Repairers, All Other',\n",
       "       'Maintenance and Repair Workers, General',\n",
       "       'Miscellaneous Installation, Maintenance, and Repair Workers',\n",
       "       'Coin, Vending, and Amusement Machine Servicers and Repairers',\n",
       "       'Fabric Menders, Except Garment',\n",
       "       'Helpers--Installation, Maintenance, and Repair Workers',\n",
       "       'Installation, Maintenance, and Repair Workers, All Other',\n",
       "       'Aircraft Structure, Surfaces, Rigging, and Systems Assemblers',\n",
       "       'Electrical, Electronics, and Electromechanical Assemblers',\n",
       "       'Coil Winders, Tapers, and Finishers',\n",
       "       'Assemblers and Fabricators, All Other',\n",
       "       'Butchers and Other Meat, Poultry, and Fish Processing Workers',\n",
       "       'Meat, Poultry, and Fish Cutters and Trimmers',\n",
       "       'Food and Tobacco Roasting, Baking, and Drying Machine Operators and Tenders',\n",
       "       'Food Processing Workers, All Other',\n",
       "       'Computer-Controlled Machine Tool Operators, Metal and Plastic',\n",
       "       'Computer Numerically Controlled Machine Tool Programmers, Metal and Plastic',\n",
       "       'Forming Machine Setters, Operators, and Tenders, Metal and Plastic',\n",
       "       'Extruding and Drawing Machine Setters, Operators, and Tenders, Metal and Plastic',\n",
       "       'Forging Machine Setters, Operators, and Tenders, Metal and Plastic',\n",
       "       'Rolling Machine Setters, Operators, and Tenders, Metal and Plastic',\n",
       "       'Machine Tool Cutting Setters, Operators, and Tenders, Metal and Plastic',\n",
       "       'Cutting, Punching, and Press Machine Setters, Operators, and Tenders, Metal and Plastic',\n",
       "       'Drilling and Boring Machine Tool Setters, Operators, and Tenders, Metal and Plastic',\n",
       "       'Grinding, Lapping, Polishing, and Buffing Machine Tool Setters, Operators, and Tenders, Metal and Plastic',\n",
       "       'Lathe and Turning Machine Tool Setters, Operators, and Tenders, Metal and Plastic',\n",
       "       'Milling and Planing Machine Setters, Operators, and Tenders, Metal and Plastic',\n",
       "       'Metal Furnace Operators, Tenders, Pourers, and Casters',\n",
       "       'Pourers and Casters, Metal',\n",
       "       'Model Makers and Patternmakers, Metal and Plastic',\n",
       "       'Model Makers, Metal and Plastic',\n",
       "       'Patternmakers, Metal and Plastic',\n",
       "       'Molders and Molding Machine Setters, Operators, and Tenders, Metal and Plastic',\n",
       "       'Molding, Coremaking, and Casting Machine Setters, Operators, and Tenders, Metal and Plastic',\n",
       "       'Multiple Machine Tool Setters, Operators, and Tenders, Metal and Plastic',\n",
       "       'Welding, Soldering, and Brazing Workers',\n",
       "       'Welders, Cutters, Solderers, and Brazers',\n",
       "       'Welding, Soldering, and Brazing Machine Setters, Operators, and Tenders',\n",
       "       'Heat Treating Equipment Setters, Operators, and Tenders, Metal and Plastic',\n",
       "       'Layout Workers, Metal and Plastic',\n",
       "       'Plating and Coating Machine Setters, Operators, and Tenders, Metal and Plastic',\n",
       "       'Tool Grinders, Filers, and Sharpeners',\n",
       "       'Metal Workers and Plastic Workers, All Other',\n",
       "       'Textile, Apparel, and Furnishings Workers',\n",
       "       'Pressers, Textile, Garment, and Related Materials',\n",
       "       'Tailors, Dressmakers, and Sewers', 'Sewers, Hand',\n",
       "       'Tailors, Dressmakers, and Custom Sewers',\n",
       "       'Textile Machine Setters, Operators, and Tenders',\n",
       "       'Textile Cutting Machine Setters, Operators, and Tenders',\n",
       "       'Textile Knitting and Weaving Machine Setters, Operators, and Tenders',\n",
       "       'Textile Winding, Twisting, and Drawing Out Machine Setters, Operators, and Tenders',\n",
       "       'Miscellaneous Textile, Apparel, and Furnishings Workers',\n",
       "       'Extruding and Forming Machine Setters, Operators, and Tenders, Synthetic and Glass Fibers',\n",
       "       'Textile, Apparel, and Furnishings Workers, All Other',\n",
       "       'Model Makers and Patternmakers, Wood', 'Model Makers, Wood',\n",
       "       'Patternmakers, Wood',\n",
       "       'Woodworking Machine Setters, Operators, and Tenders',\n",
       "       'Sawing Machine Setters, Operators, and Tenders, Wood',\n",
       "       'Woodworking Machine Setters, Operators, and Tenders, Except Sawing',\n",
       "       'Woodworkers, All Other',\n",
       "       'Power Plant Operators, Distributors, and Dispatchers',\n",
       "       'Petroleum Pump System Operators, Refinery Operators, and Gaugers',\n",
       "       'Plant and System Operators, All Other',\n",
       "       'Chemical Processing Machine Setters, Operators, and Tenders',\n",
       "       'Separating, Filtering, Clarifying, Precipitating, and Still Machine Setters, Operators, and Tenders',\n",
       "       'Crushing, Grinding, Polishing, Mixing, and Blending Workers',\n",
       "       'Crushing, Grinding, and Polishing Machine Setters, Operators, and Tenders',\n",
       "       'Grinding and Polishing Workers, Hand',\n",
       "       'Mixing and Blending Machine Setters, Operators, and Tenders',\n",
       "       'Cutters and Trimmers, Hand',\n",
       "       'Cutting and Slicing Machine Setters, Operators, and Tenders',\n",
       "       'Extruding, Forming, Pressing, and Compacting Machine Setters, Operators, and Tenders',\n",
       "       'Furnace, Kiln, Oven, Drier, and Kettle Operators and Tenders',\n",
       "       'Inspectors, Testers, Sorters, Samplers, and Weighers',\n",
       "       'Medical, Dental, and Ophthalmic Laboratory Technicians',\n",
       "       'Coating, Painting, and Spraying Machine Setters, Operators, and Tenders',\n",
       "       'Painters, Transportation Equipment',\n",
       "       'Painting, Coating, and Decorating Workers',\n",
       "       'Cleaning, Washing, and Metal Pickling Equipment Operators and Tenders',\n",
       "       'Molders, Shapers, and Casters, Except Metal and Plastic',\n",
       "       'Paper Goods Machine Setters, Operators, and Tenders',\n",
       "       'Production Workers, All Other',\n",
       "       'First-Line Supervisors of Helpers, Laborers, and Material Movers, Hand',\n",
       "       'Ambulance Drivers and Attendants, Except Emergency Medical Technicians',\n",
       "       'Bus Drivers, Transit and Intercity',\n",
       "       'Bus Drivers, School or Special Client',\n",
       "       'Motor Vehicle Operators, All Other',\n",
       "       'Rail Yard Engineers, Dinkey Operators, and Hostlers',\n",
       "       'Railroad Brake, Signal, and Switch Operators',\n",
       "       'Rail Transportation Workers, All Other',\n",
       "       'Captains, Mates, and Pilots of Water Vessels',\n",
       "       'Transportation Attendants, Except Flight Attendants',\n",
       "       'Transportation Workers, All Other',\n",
       "       'Dredge, Excavating, and Loading Machine Operators',\n",
       "       'Loading Machine Operators, Underground Mining',\n",
       "       'Laborers and Material Movers, Hand',\n",
       "       'Laborers and Freight, Stock, and Material Movers, Hand',\n",
       "       'Packers and Packagers, Hand',\n",
       "       'Pump Operators, Except Wellhead Pumpers',\n",
       "       'Tank Car, Truck, and Ship Loaders',\n",
       "       'Material Moving Workers, All Other'], dtype=object)"
      ]
     },
     "execution_count": 20,
     "metadata": {},
     "output_type": "execute_result"
    }
   ],
   "source": [
    "salary_name[np.char.find(list(salary_name),',')!=-1]"
   ]
  },
  {
   "cell_type": "code",
   "execution_count": 21,
   "metadata": {
    "ExecuteTime": {
     "end_time": "2021-03-14T09:46:39.524202Z",
     "start_time": "2021-03-14T09:46:39.508252Z"
    }
   },
   "outputs": [
    {
     "data": {
      "text/plain": [
       "array(['Transportation; Storage; and Distribution Managers',\n",
       "       'Farmers; Ranchers; and Other Agricultural Managers',\n",
       "       'Education Administrators; Preschool and Childcare Center/Program',\n",
       "       'Education Administrators; Elementary and Secondary School',\n",
       "       'Education Administrators; Postsecondary',\n",
       "       'Property; Real Estate; and Community Association Managers',\n",
       "       'Managers; All Other',\n",
       "       'Agents and Business Managers of Artists; Performers; and Athletes',\n",
       "       'Buyers and Purchasing Agents; Farm Products',\n",
       "       'Wholesale and Retail Buyers; Except Farm Products',\n",
       "       'Purchasing Agents; Except Wholesale; Retail; and Farm Products',\n",
       "       'Claims Adjusters; Examiners; and Investigators',\n",
       "       'Insurance Appraisers; Auto Damage',\n",
       "       'Meeting; Convention; and Event Planners',\n",
       "       'Compensation; Benefits; and Job Analysis Specialists',\n",
       "       'Business Operations Specialists; All Other',\n",
       "       'Tax Examiners and Collectors; and Revenue Agents',\n",
       "       'Financial Specialists; All Other',\n",
       "       'Software Developers; Applications',\n",
       "       'Software Developers; Systems Software',\n",
       "       'Architects; Except Landscape and Naval',\n",
       "       'Electronics Engineers; Except Computer',\n",
       "       'Health and Safety Engineers; Except Mining Safety Engineers and Inspectors',\n",
       "       'Mining and Geological Engineers; Including Mining Safety Engineers',\n",
       "       'Engineers; All Other',\n",
       "       'Engineering Technicians; Except Drafters; All Other',\n",
       "       'Biological Scientists; All Other',\n",
       "       'Medical Scientists; Except Epidemiologists',\n",
       "       'Environmental Scientists and Specialists; Including Health',\n",
       "       'Geoscientists; Except Hydrologists and Geographers',\n",
       "       'Physical Scientists; All Other',\n",
       "       'Clinical; Counseling; and School Psychologists',\n",
       "       'Psychologists; All Other',\n",
       "       'Social Scientists and Related Workers; All Other',\n",
       "       'Environmental Science and Protection Technicians; Including Health',\n",
       "       'Life; Physical; and Social Science Technicians; All Other',\n",
       "       'Educational; Guidance; School; and Vocational Counselors',\n",
       "       'Child; Family; and School Social Workers',\n",
       "       'Directors; Religious Activities and Education',\n",
       "       'Administrative Law Judges; Adjudicators; and Hearing Officers',\n",
       "       'Arbitrators; Mediators; and Conciliators',\n",
       "       'Judges; Magistrate Judges; and Magistrates',\n",
       "       'Title Examiners; Abstractors; and Searchers',\n",
       "       'Preschool Teachers; Except Special Education',\n",
       "       'Kindergarten Teachers; Except Special Education',\n",
       "       'Elementary School Teachers; Except Special Education',\n",
       "       'Middle School Teachers; Except Special and Career/Technical Education',\n",
       "       'Career/Technical Education Teachers; Middle School',\n",
       "       'Secondary School Teachers; Except Special and Career/Technical Education',\n",
       "       'Career/Technical Education Teachers; Secondary School',\n",
       "       'Special Education Teachers; Middle School',\n",
       "       'Special Education Teachers; Secondary School',\n",
       "       'Fine Artists; Including Painters; Sculptors; and Illustrators',\n",
       "       'Umpires; Referees; and Other Sports Officials',\n",
       "       'Camera Operators; Television; Video; and Motion Picture',\n",
       "       'Dentists; General',\n",
       "       'Health Diagnosing and Treating Practitioners; All Other',\n",
       "       'Opticians; Dispensing',\n",
       "       'Lifeguards; Ski Patrol; and Other Recreational Protective Service Workers',\n",
       "       'Cooks; Fast Food', 'Cooks; Institution and Cafeteria',\n",
       "       'Cooks; Private Household', 'Cooks; Restaurant',\n",
       "       'Cooks; Short Order',\n",
       "       'Combined Food Preparation and Serving Workers; Including Fast Food',\n",
       "       'Counter Attendants; Cafeteria; Food Concession; and Coffee Shop',\n",
       "       'Food Servers; Nonrestaurant',\n",
       "       'Hosts and Hostesses; Restaurant; Lounge; and Coffee Shop',\n",
       "       'First-Line Supervisors of Landscaping; Lawn Service; and Groundskeeping Workers',\n",
       "       'Janitors and Cleaners; Except Maids and Housekeeping Cleaners',\n",
       "       'Pesticide Handlers; Sprayers; and Applicators; Vegetation',\n",
       "       'Ushers; Lobby Attendants; and Ticket Takers',\n",
       "       'Locker Room; Coatroom; and Dressing Room Attendants',\n",
       "       'Hairdressers; Hairstylists; and Cosmetologists',\n",
       "       'Makeup Artists; Theatrical and Performance',\n",
       "       'Securities; Commodities; and Financial Services Sales Agents',\n",
       "       'Sales Representatives; Wholesale and Manufacturing; Technical and Scientific Products',\n",
       "       'Sales Representatives; Wholesale and Manufacturing; Except Technical and Scientific Products',\n",
       "       'Door-to-Door Sales Workers; News and Street Vendors; and Related Workers',\n",
       "       'Switchboard Operators; Including Answering Service',\n",
       "       'Bookkeeping; Accounting; and Auditing Clerks',\n",
       "       'Court; Municipal; and License Clerks',\n",
       "       'Credit Authorizers; Checkers; and Clerks',\n",
       "       'Eligibility Interviewers; Government Programs',\n",
       "       'Hotel; Motel; and Resort Desk Clerks',\n",
       "       'Interviewers; Except Eligibility and Loan',\n",
       "       'Library Assistants; Clerical',\n",
       "       'Human Resources Assistants; Except Payroll and Timekeeping',\n",
       "       'Police; Fire; and Ambulance Dispatchers',\n",
       "       'Dispatchers; Except Police; Fire; and Ambulance',\n",
       "       'Meter Readers; Utilities',\n",
       "       'Postal Service Mail Sorters; Processors; and Processing Machine Operators',\n",
       "       'Production; Planning; and Expediting Clerks',\n",
       "       'Shipping; Receiving; and Traffic Clerks',\n",
       "       'Weighers; Measurers; Checkers; and Samplers; Recordkeeping',\n",
       "       'Secretaries and Administrative Assistants; Except Legal; Medical; and Executive',\n",
       "       'Mail Clerks and Mail Machine Operators; Except Postal Service',\n",
       "       'Office Clerks; General',\n",
       "       'Office Machine Operators; Except Computer',\n",
       "       'First-Line Supervisors of Farming; Fishing; and Forestry Workers',\n",
       "       'Graders and Sorters; Agricultural Products',\n",
       "       'Floor Layers; Except Carpet; Wood; and Hard Tiles',\n",
       "       'Paving; Surfacing; and Tamping Equipment Operators',\n",
       "       'Insulation Workers; Floor; Ceiling; and Wall',\n",
       "       'Insulation Workers; Mechanical',\n",
       "       'Painters; Construction and Maintenance',\n",
       "       'Plumbers; Pipefitters; and Steamfitters',\n",
       "       'Helpers\\x96Brickmasons; Blockmasons; Stonemasons; and Tile and Marble Setters',\n",
       "       'Helpers\\x96Painters; Paperhangers; Plasterers; and Stucco Masons',\n",
       "       'Helpers\\x96Pipelayers; Plumbers; Pipefitters; and Steamfitters',\n",
       "       'Derrick Operators; Oil and Gas',\n",
       "       'Rotary Drill Operators; Oil and Gas',\n",
       "       'Service Unit Operators; Oil; Gas; and Mining',\n",
       "       'Earth Drillers; Except Oil and Gas',\n",
       "       'Explosives Workers; Ordnance Handling Experts; and Blasters',\n",
       "       'Rock Splitters; Quarry', 'Roof Bolters; Mining',\n",
       "       'Roustabouts; Oil and Gas',\n",
       "       'First-Line Supervisors of Mechanics; Installers; and Repairers',\n",
       "       'Computer; Automated Teller; and Office Machine Repairers',\n",
       "       'Radio; Cellular; and Tower Equipment Installers and Repairs',\n",
       "       'Telecommunications Equipment Installers and Repairers; Except Line Installers',\n",
       "       'Electric Motor; Power Tool; and Related Repairers',\n",
       "       'Electrical and Electronics Installers and Repairers; Transportation Equipment',\n",
       "       'Electrical and Electronics Repairers; Commercial and Industrial Equipment',\n",
       "       'Electrical and Electronics Repairers; Powerhouse; Substation; and Relay',\n",
       "       'Electronic Equipment Installers and Repairers; Motor Vehicles',\n",
       "       'Mobile Heavy Equipment Mechanics; Except Engines',\n",
       "       'Control and Valve Installers and Repairers; Except Mechanical Door',\n",
       "       'Heating; Air Conditioning; and Refrigeration Mechanics and Installers',\n",
       "       'Maintenance Workers; Machinery',\n",
       "       'Refractory Materials Repairers; Except Brickmasons',\n",
       "       'Maintenance and Repair Workers; General',\n",
       "       'Coin; Vending; and Amusement Machine Servicers and Repairers',\n",
       "       'Fabric Menders; Except Garment',\n",
       "       'Helpers\\x96Installation; Maintenance; and Repair Workers',\n",
       "       'Aircraft Structure; Surfaces; Rigging; and Systems Assemblers',\n",
       "       'Coil Winders; Tapers; and Finishers',\n",
       "       'Meat; Poultry; and Fish Cutters and Trimmers',\n",
       "       'Food and Tobacco Roasting; Baking; and Drying Machine Operators and Tenders',\n",
       "       'Computer-Controlled Machine Tool Operators; Metal and Plastic',\n",
       "       'Computer Numerically Controlled Machine Tool Programmers; Metal and Plastic',\n",
       "       'Extruding and Drawing Machine Setters; Operators; and Tenders; Metal and Plastic',\n",
       "       'Forging Machine Setters; Operators; and Tenders; Metal and Plastic',\n",
       "       'Rolling Machine Setters; Operators; and Tenders; Metal and Plastic',\n",
       "       'Cutting; Punching; and Press Machine Setters; Operators; and Tenders; Metal and Plastic',\n",
       "       'Drilling and Boring Machine Tool Setters; Operators; and Tenders; Metal and Plastic',\n",
       "       'Grinding; Lapping; Polishing; and Buffing Machine Tool Setters; Operators; and Tenders; Metal and Plastic',\n",
       "       'Lathe and Turning Machine Tool Setters; Operators; and Tenders; Metal and Plastic',\n",
       "       'Milling and Planing Machine Setters; Operators; and Tenders; Metal and Plastic',\n",
       "       'Pourers and Casters; Metal', 'Model Makers; Metal and Plastic',\n",
       "       'Patternmakers; Metal and Plastic',\n",
       "       'Molding; Coremaking; and Casting Machine Setters; Operators; and Tenders; Metal and Plastic',\n",
       "       'Multiple Machine Tool Setters; Operators; and Tenders; Metal and Plastic',\n",
       "       'Welders; Cutters; Solderers; and Brazers',\n",
       "       'Welding; Soldering; and Brazing Machine Setters; Operators; and Tenders',\n",
       "       'Heat Treating Equipment Setters; Operators; and Tenders; Metal and Plastic',\n",
       "       'Layout Workers; Metal and Plastic',\n",
       "       'Plating and Coating Machine Setters; Operators; and Tenders; Metal and Plastic',\n",
       "       'Tool Grinders; Filers; and Sharpeners',\n",
       "       'Pressers; Textile; Garment; and Related Materials',\n",
       "       'Sewers; Hand', 'Tailors; Dressmakers; and Custom Sewers',\n",
       "       'Textile Cutting Machine Setters; Operators; and Tenders',\n",
       "       'Textile Knitting and Weaving Machine Setters; Operators; and Tenders',\n",
       "       'Textile Winding; Twisting; and Drawing Out Machine Setters; Operators; and Tenders',\n",
       "       'Extruding and Forming Machine Setters; Operators; and Tenders; Synthetic and Glass Fibers',\n",
       "       'Model Makers; Wood', 'Patternmakers; Wood',\n",
       "       'Sawing Machine Setters; Operators; and Tenders; Wood',\n",
       "       'Woodworking Machine Setters; Operators; and Tenders; Except Sawing',\n",
       "       'Petroleum Pump System Operators; Refinery Operators; and Gaugers',\n",
       "       'Plant and System Operators; All Other',\n",
       "       'Separating; Filtering; Clarifying; Precipitating; and Still Machine Setters; Operators; and Tenders',\n",
       "       'Crushing; Grinding; and Polishing Machine Setters; Operators; and Tenders',\n",
       "       'Grinding and Polishing Workers; Hand',\n",
       "       'Mixing and Blending Machine Setters; Operators; and Tenders',\n",
       "       'Cutters and Trimmers; Hand',\n",
       "       'Cutting and Slicing Machine Setters; Operators; and Tenders',\n",
       "       'Extruding; Forming; Pressing; and Compacting Machine Setters; Operators; and Tenders',\n",
       "       'Furnace; Kiln; Oven; Drier; and Kettle Operators and Tenders',\n",
       "       'Inspectors; Testers; Sorters; Samplers; and Weighers',\n",
       "       'Coating; Painting; and Spraying Machine Setters; Operators; and Tenders',\n",
       "       'Painters; Transportation Equipment',\n",
       "       'Painting; Coating; and Decorating Workers',\n",
       "       'Cleaning; Washing; and Metal Pickling Equipment Operators and Tenders',\n",
       "       'Molders; Shapers; and Casters; Except Metal and Plastic',\n",
       "       'Paper Goods Machine Setters; Operators; and Tenders',\n",
       "       'First-Line Supervisors of Helpers; Laborers; and Material Movers; Hand',\n",
       "       'Airline Pilots; Copilots; and Flight Engineers',\n",
       "       'Ambulance Drivers and Attendants; Except Emergency Medical Technicians',\n",
       "       'Bus Drivers; Transit and Intercity',\n",
       "       'Bus Drivers; School or Special Client',\n",
       "       'Rail Yard Engineers; Dinkey Operators; and Hostlers',\n",
       "       'Railroad Brake; Signal; and Switch Operators',\n",
       "       'Captains; Mates; and Pilots of Water Vessels',\n",
       "       'Transportation Attendants; Except Flight Attendants',\n",
       "       'Loading Machine Operators; Underground Mining',\n",
       "       'Laborers and Freight; Stock; and Material Movers; Hand',\n",
       "       'Packers and Packagers; Hand',\n",
       "       'Pump Operators; Except Wellhead Pumpers',\n",
       "       'Tank Car; Truck; and Ship Loaders'], dtype=object)"
      ]
     },
     "execution_count": 21,
     "metadata": {},
     "output_type": "execute_result"
    }
   ],
   "source": [
    "auto_name[np.char.find(list(auto_name),';')!=-1]"
   ]
  },
  {
   "cell_type": "code",
   "execution_count": 22,
   "metadata": {
    "ExecuteTime": {
     "end_time": "2021-03-14T09:46:39.532181Z",
     "start_time": "2021-03-14T09:46:39.526197Z"
    }
   },
   "outputs": [],
   "source": [
    "auto_data['Occupation'] = auto_data['Occupation'].str.replace(';',',')"
   ]
  },
  {
   "cell_type": "markdown",
   "metadata": {},
   "source": [
    "After the replacement, the intersection rate of occupation name grows up to 93%."
   ]
  },
  {
   "cell_type": "code",
   "execution_count": 23,
   "metadata": {
    "ExecuteTime": {
     "end_time": "2021-03-14T09:46:39.546144Z",
     "start_time": "2021-03-14T09:46:39.538165Z"
    }
   },
   "outputs": [
    {
     "data": {
      "text/plain": [
       "0.931185944363104"
      ]
     },
     "execution_count": 23,
     "metadata": {},
     "output_type": "execute_result"
    }
   ],
   "source": [
    "auto_name_new = pd.unique(auto_data.Occupation)\n",
    "intersect_name_new = np.intersect1d(auto_name_new,salary_name)\n",
    "len(intersect_name_new)/len(auto_name_new)"
   ]
  },
  {
   "cell_type": "markdown",
   "metadata": {},
   "source": [
    "#### 2.5. Merging tables"
   ]
  },
  {
   "cell_type": "markdown",
   "metadata": {},
   "source": [
    "We would like to see whether the automation table and the population table are compatible. That is, whether the state names in these two tables are the same."
   ]
  },
  {
   "cell_type": "code",
   "execution_count": 24,
   "metadata": {
    "ExecuteTime": {
     "end_time": "2021-03-14T09:46:39.557115Z",
     "start_time": "2021-03-14T09:46:39.549136Z"
    }
   },
   "outputs": [
    {
     "name": "stdout",
     "output_type": "stream",
     "text": [
      "Different states in the population table:  {'DC'}\n",
      "Different states in the population table:  {'District of Columbia'}\n"
     ]
    }
   ],
   "source": [
    "popu_state = population_data.State.tolist()\n",
    "auto_state = auto_data.columns.tolist()[3:-1]\n",
    "intersect_state = np.intersect1d(popu_state,auto_state)\n",
    "print(\"Different states in the population table: \", set(popu_state)-set(intersect_state))\n",
    "print(\"Different states in the population table: \", set(auto_state)-set(intersect_state))"
   ]
  },
  {
   "cell_type": "markdown",
   "metadata": {},
   "source": [
    "Only DC has different names in the two tables. We can replace the \"District of Columbia\" in the automation table with \"DC\"."
   ]
  },
  {
   "cell_type": "code",
   "execution_count": 25,
   "metadata": {
    "ExecuteTime": {
     "end_time": "2021-03-14T09:46:39.565093Z",
     "start_time": "2021-03-14T09:46:39.560106Z"
    }
   },
   "outputs": [],
   "source": [
    "auto_data = auto_data.rename({'District of Columbia':'DC'}, axis=1)"
   ]
  },
  {
   "cell_type": "markdown",
   "metadata": {},
   "source": [
    "We than can calculate the population proportion of each occupation in states. Replace the number of workers with occupation workers population ratio."
   ]
  },
  {
   "cell_type": "code",
   "execution_count": 26,
   "metadata": {
    "ExecuteTime": {
     "end_time": "2021-03-14T09:46:39.649866Z",
     "start_time": "2021-03-14T09:46:39.567088Z"
    }
   },
   "outputs": [],
   "source": [
    "auto_data_T = auto_data.melt(id_vars = ['SOC','Occupation','Probability','total_workers'])\n",
    "ratio_data = auto_data_T.merge(population_data, left_on = 'variable', right_on = 'State')\n",
    "ratio_data['popu_ratio'] = ratio_data.value/ratio_data.Estimate\n",
    "auto_ratio_data = ratio_data.drop(['value','Rank','State','Estimate','Total'],axis=1)\n",
    "auto_ratio_data = auto_ratio_data.pivot(index=['SOC','Occupation','Probability','total_workers'],\n",
    "                                        columns='variable',\n",
    "                                        values='popu_ratio').reset_index()"
   ]
  },
  {
   "cell_type": "markdown",
   "metadata": {},
   "source": [
    "Also consider replacing the total number of workers with the population ration."
   ]
  },
  {
   "cell_type": "code",
   "execution_count": 27,
   "metadata": {
    "ExecuteTime": {
     "end_time": "2021-03-14T09:46:39.682779Z",
     "start_time": "2021-03-14T09:46:39.651862Z"
    }
   },
   "outputs": [
    {
     "data": {
      "text/html": [
       "<div>\n",
       "<style scoped>\n",
       "    .dataframe tbody tr th:only-of-type {\n",
       "        vertical-align: middle;\n",
       "    }\n",
       "\n",
       "    .dataframe tbody tr th {\n",
       "        vertical-align: top;\n",
       "    }\n",
       "\n",
       "    .dataframe thead th {\n",
       "        text-align: right;\n",
       "    }\n",
       "</style>\n",
       "<table border=\"1\" class=\"dataframe\">\n",
       "  <thead>\n",
       "    <tr style=\"text-align: right;\">\n",
       "      <th>variable</th>\n",
       "      <th>SOC</th>\n",
       "      <th>Occupation</th>\n",
       "      <th>Probability</th>\n",
       "      <th>total_workers</th>\n",
       "      <th>Alabama</th>\n",
       "      <th>Alaska</th>\n",
       "      <th>Arizona</th>\n",
       "      <th>Arkansas</th>\n",
       "      <th>California</th>\n",
       "      <th>Colorado</th>\n",
       "      <th>...</th>\n",
       "      <th>South Dakota</th>\n",
       "      <th>Tennessee</th>\n",
       "      <th>Texas</th>\n",
       "      <th>Utah</th>\n",
       "      <th>Vermont</th>\n",
       "      <th>Virginia</th>\n",
       "      <th>Washington</th>\n",
       "      <th>West Virginia</th>\n",
       "      <th>Wisconsin</th>\n",
       "      <th>Wyoming</th>\n",
       "    </tr>\n",
       "  </thead>\n",
       "  <tbody>\n",
       "    <tr>\n",
       "      <th>0</th>\n",
       "      <td>11-1011</td>\n",
       "      <td>Chief Executives</td>\n",
       "      <td>0.015</td>\n",
       "      <td>0.000695</td>\n",
       "      <td>0.000210</td>\n",
       "      <td>0.001039</td>\n",
       "      <td>0.000790</td>\n",
       "      <td>0.000898</td>\n",
       "      <td>0.000788</td>\n",
       "      <td>0.000153</td>\n",
       "      <td>...</td>\n",
       "      <td>0.000633</td>\n",
       "      <td>0.000799</td>\n",
       "      <td>0.000203</td>\n",
       "      <td>0.001139</td>\n",
       "      <td>0.000449</td>\n",
       "      <td>0.000740</td>\n",
       "      <td>0.000776</td>\n",
       "      <td>0.000547</td>\n",
       "      <td>0.000642</td>\n",
       "      <td>0.000276</td>\n",
       "    </tr>\n",
       "    <tr>\n",
       "      <th>1</th>\n",
       "      <td>11-1021</td>\n",
       "      <td>General and Operations Managers</td>\n",
       "      <td>0.160</td>\n",
       "      <td>0.006810</td>\n",
       "      <td>0.005492</td>\n",
       "      <td>0.008872</td>\n",
       "      <td>0.005949</td>\n",
       "      <td>0.006853</td>\n",
       "      <td>0.006625</td>\n",
       "      <td>0.007213</td>\n",
       "      <td>...</td>\n",
       "      <td>0.004216</td>\n",
       "      <td>0.006498</td>\n",
       "      <td>0.005815</td>\n",
       "      <td>0.011291</td>\n",
       "      <td>0.004423</td>\n",
       "      <td>0.006137</td>\n",
       "      <td>0.005747</td>\n",
       "      <td>0.005691</td>\n",
       "      <td>0.005556</td>\n",
       "      <td>0.008363</td>\n",
       "    </tr>\n",
       "    <tr>\n",
       "      <th>2</th>\n",
       "      <td>11-2011</td>\n",
       "      <td>Advertising and Promotions Managers</td>\n",
       "      <td>0.039</td>\n",
       "      <td>0.000087</td>\n",
       "      <td>0.000010</td>\n",
       "      <td>0.000055</td>\n",
       "      <td>0.000065</td>\n",
       "      <td>0.000036</td>\n",
       "      <td>0.000095</td>\n",
       "      <td>0.000083</td>\n",
       "      <td>...</td>\n",
       "      <td>0.000000</td>\n",
       "      <td>0.000098</td>\n",
       "      <td>0.000042</td>\n",
       "      <td>0.000119</td>\n",
       "      <td>0.000064</td>\n",
       "      <td>0.000028</td>\n",
       "      <td>0.000084</td>\n",
       "      <td>0.000022</td>\n",
       "      <td>0.000034</td>\n",
       "      <td>0.000000</td>\n",
       "    </tr>\n",
       "    <tr>\n",
       "      <th>3</th>\n",
       "      <td>11-2021</td>\n",
       "      <td>Marketing Managers</td>\n",
       "      <td>0.014</td>\n",
       "      <td>0.000641</td>\n",
       "      <td>0.000108</td>\n",
       "      <td>0.000273</td>\n",
       "      <td>0.000658</td>\n",
       "      <td>0.000361</td>\n",
       "      <td>0.000845</td>\n",
       "      <td>0.000531</td>\n",
       "      <td>...</td>\n",
       "      <td>0.000068</td>\n",
       "      <td>0.000498</td>\n",
       "      <td>0.000330</td>\n",
       "      <td>0.000724</td>\n",
       "      <td>0.000609</td>\n",
       "      <td>0.000450</td>\n",
       "      <td>0.000766</td>\n",
       "      <td>0.000145</td>\n",
       "      <td>0.000512</td>\n",
       "      <td>0.000052</td>\n",
       "    </tr>\n",
       "    <tr>\n",
       "      <th>4</th>\n",
       "      <td>11-2022</td>\n",
       "      <td>Sales Managers</td>\n",
       "      <td>0.013</td>\n",
       "      <td>0.001136</td>\n",
       "      <td>0.000512</td>\n",
       "      <td>0.000547</td>\n",
       "      <td>0.001463</td>\n",
       "      <td>0.000878</td>\n",
       "      <td>0.001751</td>\n",
       "      <td>0.000794</td>\n",
       "      <td>...</td>\n",
       "      <td>0.000339</td>\n",
       "      <td>0.001301</td>\n",
       "      <td>0.000769</td>\n",
       "      <td>0.001048</td>\n",
       "      <td>0.000769</td>\n",
       "      <td>0.000628</td>\n",
       "      <td>0.000970</td>\n",
       "      <td>0.000335</td>\n",
       "      <td>0.000984</td>\n",
       "      <td>0.000311</td>\n",
       "    </tr>\n",
       "  </tbody>\n",
       "</table>\n",
       "<p>5 rows × 55 columns</p>\n",
       "</div>"
      ],
      "text/plain": [
       "variable      SOC                           Occupation  Probability  \\\n",
       "0         11-1011                     Chief Executives        0.015   \n",
       "1         11-1021      General and Operations Managers        0.160   \n",
       "2         11-2011  Advertising and Promotions Managers        0.039   \n",
       "3         11-2021                   Marketing Managers        0.014   \n",
       "4         11-2022                       Sales Managers        0.013   \n",
       "\n",
       "variable  total_workers   Alabama    Alaska   Arizona  Arkansas  California  \\\n",
       "0              0.000695  0.000210  0.001039  0.000790  0.000898    0.000788   \n",
       "1              0.006810  0.005492  0.008872  0.005949  0.006853    0.006625   \n",
       "2              0.000087  0.000010  0.000055  0.000065  0.000036    0.000095   \n",
       "3              0.000641  0.000108  0.000273  0.000658  0.000361    0.000845   \n",
       "4              0.001136  0.000512  0.000547  0.001463  0.000878    0.001751   \n",
       "\n",
       "variable  Colorado  ...  South Dakota  Tennessee     Texas      Utah  \\\n",
       "0         0.000153  ...      0.000633   0.000799  0.000203  0.001139   \n",
       "1         0.007213  ...      0.004216   0.006498  0.005815  0.011291   \n",
       "2         0.000083  ...      0.000000   0.000098  0.000042  0.000119   \n",
       "3         0.000531  ...      0.000068   0.000498  0.000330  0.000724   \n",
       "4         0.000794  ...      0.000339   0.001301  0.000769  0.001048   \n",
       "\n",
       "variable   Vermont  Virginia  Washington  West Virginia  Wisconsin   Wyoming  \n",
       "0         0.000449  0.000740    0.000776       0.000547   0.000642  0.000276  \n",
       "1         0.004423  0.006137    0.005747       0.005691   0.005556  0.008363  \n",
       "2         0.000064  0.000028    0.000084       0.000022   0.000034  0.000000  \n",
       "3         0.000609  0.000450    0.000766       0.000145   0.000512  0.000052  \n",
       "4         0.000769  0.000628    0.000970       0.000335   0.000984  0.000311  \n",
       "\n",
       "[5 rows x 55 columns]"
      ]
     },
     "execution_count": 27,
     "metadata": {},
     "output_type": "execute_result"
    }
   ],
   "source": [
    "auto_ratio_data['total_workers'] = auto_ratio_data['total_workers']/total_population\n",
    "auto_ratio_data.head()"
   ]
  },
  {
   "cell_type": "markdown",
   "metadata": {},
   "source": [
    "Only occupations in both the salary table and the automation table will be kept. Merge the two tables using occupation code. The merged table has 647 observations. Each observation is a occupation."
   ]
  },
  {
   "cell_type": "code",
   "execution_count": 28,
   "metadata": {
    "ExecuteTime": {
     "end_time": "2021-03-14T09:46:39.715690Z",
     "start_time": "2021-03-14T09:46:39.686769Z"
    }
   },
   "outputs": [
    {
     "name": "stdout",
     "output_type": "stream",
     "text": [
      "<class 'pandas.core.frame.DataFrame'>\n",
      "Int64Index: 647 entries, 0 to 646\n",
      "Data columns (total 71 columns):\n",
      " #   Column          Non-Null Count  Dtype  \n",
      "---  ------          --------------  -----  \n",
      " 0   SOC             647 non-null    object \n",
      " 1   Occupation      647 non-null    object \n",
      " 2   Probability     647 non-null    float64\n",
      " 3   total_workers   647 non-null    float64\n",
      " 4   Alabama         647 non-null    float64\n",
      " 5   Alaska          647 non-null    float64\n",
      " 6   Arizona         647 non-null    float64\n",
      " 7   Arkansas        647 non-null    float64\n",
      " 8   California      647 non-null    float64\n",
      " 9   Colorado        647 non-null    float64\n",
      " 10  Connecticut     647 non-null    float64\n",
      " 11  DC              647 non-null    float64\n",
      " 12  Delaware        647 non-null    float64\n",
      " 13  Florida         647 non-null    float64\n",
      " 14  Georgia         647 non-null    float64\n",
      " 15  Hawaii          647 non-null    float64\n",
      " 16  Idaho           647 non-null    float64\n",
      " 17  Illinois        647 non-null    float64\n",
      " 18  Indiana         647 non-null    float64\n",
      " 19  Iowa            647 non-null    float64\n",
      " 20  Kansas          647 non-null    float64\n",
      " 21  Kentucky        647 non-null    float64\n",
      " 22  Louisiana       647 non-null    float64\n",
      " 23  Maine           647 non-null    float64\n",
      " 24  Maryland        647 non-null    float64\n",
      " 25  Massachusetts   647 non-null    float64\n",
      " 26  Michigan        647 non-null    float64\n",
      " 27  Minnesota       647 non-null    float64\n",
      " 28  Mississippi     647 non-null    float64\n",
      " 29  Missouri        647 non-null    float64\n",
      " 30  Montana         647 non-null    float64\n",
      " 31  Nebraska        647 non-null    float64\n",
      " 32  Nevada          647 non-null    float64\n",
      " 33  New Hampshire   647 non-null    float64\n",
      " 34  New Jersey      647 non-null    float64\n",
      " 35  New Mexico      647 non-null    float64\n",
      " 36  New York        647 non-null    float64\n",
      " 37  North Carolina  647 non-null    float64\n",
      " 38  North Dakota    647 non-null    float64\n",
      " 39  Ohio            647 non-null    float64\n",
      " 40  Oklahoma        647 non-null    float64\n",
      " 41  Oregon          647 non-null    float64\n",
      " 42  Pennsylvania    647 non-null    float64\n",
      " 43  Rhode Island    647 non-null    float64\n",
      " 44  South Carolina  647 non-null    float64\n",
      " 45  South Dakota    647 non-null    float64\n",
      " 46  Tennessee       647 non-null    float64\n",
      " 47  Texas           647 non-null    float64\n",
      " 48  Utah            647 non-null    float64\n",
      " 49  Vermont         647 non-null    float64\n",
      " 50  Virginia        647 non-null    float64\n",
      " 51  Washington      647 non-null    float64\n",
      " 52  West Virginia   647 non-null    float64\n",
      " 53  Wisconsin       647 non-null    float64\n",
      " 54  Wyoming         647 non-null    float64\n",
      " 55  OCC_GROUP       647 non-null    object \n",
      " 56  TOT_EMP         647 non-null    float64\n",
      " 57  EMP_PRSE        647 non-null    float64\n",
      " 58  H_MEAN          647 non-null    float64\n",
      " 59  A_MEAN          647 non-null    float64\n",
      " 60  MEAN_PRSE       647 non-null    float64\n",
      " 61  H_PCT10         647 non-null    float64\n",
      " 62  H_PCT25         647 non-null    float64\n",
      " 63  H_MEDIAN        647 non-null    float64\n",
      " 64  H_PCT75         647 non-null    float64\n",
      " 65  H_PCT90         647 non-null    float64\n",
      " 66  A_PCT10         647 non-null    float64\n",
      " 67  A_PCT25         647 non-null    float64\n",
      " 68  A_MEDIAN        647 non-null    float64\n",
      " 69  A_PCT75         647 non-null    float64\n",
      " 70  A_PCT90         647 non-null    float64\n",
      "dtypes: float64(68), object(3)\n",
      "memory usage: 363.9+ KB\n"
     ]
    }
   ],
   "source": [
    "auto_clean = auto_ratio_data.loc[auto_ratio_data.SOC.isin(intersect_code)]\n",
    "salary_clean = salary_data.loc[salary_data.OCC_CODE.isin(intersect_code)]\n",
    "df = auto_clean.merge(salary_clean, left_on = 'SOC', right_on = 'OCC_CODE').drop(['OCC_CODE','OCC_TITLE'],1)\n",
    "df.info()"
   ]
  },
  {
   "cell_type": "code",
   "execution_count": 29,
   "metadata": {
    "ExecuteTime": {
     "end_time": "2021-03-14T09:46:39.723669Z",
     "start_time": "2021-03-14T09:46:39.717686Z"
    }
   },
   "outputs": [
    {
     "data": {
      "text/plain": [
       "647"
      ]
     },
     "execution_count": 29,
     "metadata": {},
     "output_type": "execute_result"
    }
   ],
   "source": [
    "df.Occupation.count()"
   ]
  },
  {
   "cell_type": "markdown",
   "metadata": {},
   "source": [
    "According to the U.S. Bureau of Labor Statistics website, occupations have 22 major groups. These major groups can be identified by the occupation code, which is 'SOC' in the table df. We can add two column separately for the major group codes and the major group names.  \n",
    "  \n",
    "https://www.bls.gov/oes/current/oes_stru.htm"
   ]
  },
  {
   "cell_type": "code",
   "execution_count": 42,
   "metadata": {
    "ExecuteTime": {
     "end_time": "2021-03-14T10:00:48.495566Z",
     "start_time": "2021-03-14T10:00:48.455704Z"
    }
   },
   "outputs": [
    {
     "data": {
      "text/html": [
       "<div>\n",
       "<style scoped>\n",
       "    .dataframe tbody tr th:only-of-type {\n",
       "        vertical-align: middle;\n",
       "    }\n",
       "\n",
       "    .dataframe tbody tr th {\n",
       "        vertical-align: top;\n",
       "    }\n",
       "\n",
       "    .dataframe thead th {\n",
       "        text-align: right;\n",
       "    }\n",
       "</style>\n",
       "<table border=\"1\" class=\"dataframe\">\n",
       "  <thead>\n",
       "    <tr style=\"text-align: right;\">\n",
       "      <th></th>\n",
       "      <th>SOC</th>\n",
       "      <th>Occupation</th>\n",
       "      <th>Probability</th>\n",
       "      <th>total_workers</th>\n",
       "      <th>Alabama</th>\n",
       "      <th>Alaska</th>\n",
       "      <th>Arizona</th>\n",
       "      <th>Arkansas</th>\n",
       "      <th>California</th>\n",
       "      <th>Colorado</th>\n",
       "      <th>...</th>\n",
       "      <th>H_MEDIAN</th>\n",
       "      <th>H_PCT75</th>\n",
       "      <th>H_PCT90</th>\n",
       "      <th>A_PCT10</th>\n",
       "      <th>A_PCT25</th>\n",
       "      <th>A_MEDIAN</th>\n",
       "      <th>A_PCT75</th>\n",
       "      <th>A_PCT90</th>\n",
       "      <th>group_code</th>\n",
       "      <th>group_name</th>\n",
       "    </tr>\n",
       "  </thead>\n",
       "  <tbody>\n",
       "    <tr>\n",
       "      <th>0</th>\n",
       "      <td>11-2031</td>\n",
       "      <td>Public Relations and Fundraising Managers</td>\n",
       "      <td>0.015</td>\n",
       "      <td>0.000199</td>\n",
       "      <td>0.000082</td>\n",
       "      <td>0.000205</td>\n",
       "      <td>0.000170</td>\n",
       "      <td>0.000099</td>\n",
       "      <td>0.000177</td>\n",
       "      <td>0.000167</td>\n",
       "      <td>...</td>\n",
       "      <td>51.59</td>\n",
       "      <td>73.06</td>\n",
       "      <td>98.61</td>\n",
       "      <td>59070.0</td>\n",
       "      <td>78710.0</td>\n",
       "      <td>107320.0</td>\n",
       "      <td>151970.0</td>\n",
       "      <td>205110.0</td>\n",
       "      <td>11</td>\n",
       "      <td>Management</td>\n",
       "    </tr>\n",
       "    <tr>\n",
       "      <th>1</th>\n",
       "      <td>11-3011</td>\n",
       "      <td>Administrative Services Managers</td>\n",
       "      <td>0.730</td>\n",
       "      <td>0.000828</td>\n",
       "      <td>0.000131</td>\n",
       "      <td>0.000724</td>\n",
       "      <td>0.000944</td>\n",
       "      <td>0.000613</td>\n",
       "      <td>0.001031</td>\n",
       "      <td>0.000396</td>\n",
       "      <td>...</td>\n",
       "      <td>43.29</td>\n",
       "      <td>58.17</td>\n",
       "      <td>76.60</td>\n",
       "      <td>49270.0</td>\n",
       "      <td>66180.0</td>\n",
       "      <td>90050.0</td>\n",
       "      <td>120990.0</td>\n",
       "      <td>159330.0</td>\n",
       "      <td>11</td>\n",
       "      <td>Management</td>\n",
       "    </tr>\n",
       "    <tr>\n",
       "      <th>2</th>\n",
       "      <td>11-3051</td>\n",
       "      <td>Industrial Production Managers</td>\n",
       "      <td>0.030</td>\n",
       "      <td>0.000524</td>\n",
       "      <td>0.000634</td>\n",
       "      <td>0.000150</td>\n",
       "      <td>0.000348</td>\n",
       "      <td>0.000563</td>\n",
       "      <td>0.000484</td>\n",
       "      <td>0.000191</td>\n",
       "      <td>...</td>\n",
       "      <td>46.70</td>\n",
       "      <td>61.34</td>\n",
       "      <td>79.54</td>\n",
       "      <td>58610.0</td>\n",
       "      <td>74670.0</td>\n",
       "      <td>97140.0</td>\n",
       "      <td>127590.0</td>\n",
       "      <td>165450.0</td>\n",
       "      <td>11</td>\n",
       "      <td>Management</td>\n",
       "    </tr>\n",
       "    <tr>\n",
       "      <th>3</th>\n",
       "      <td>11-3061</td>\n",
       "      <td>Purchasing Managers</td>\n",
       "      <td>0.030</td>\n",
       "      <td>0.000219</td>\n",
       "      <td>0.000194</td>\n",
       "      <td>0.000178</td>\n",
       "      <td>0.000245</td>\n",
       "      <td>0.000169</td>\n",
       "      <td>0.000214</td>\n",
       "      <td>0.000132</td>\n",
       "      <td>...</td>\n",
       "      <td>53.65</td>\n",
       "      <td>68.67</td>\n",
       "      <td>85.37</td>\n",
       "      <td>63380.0</td>\n",
       "      <td>82880.0</td>\n",
       "      <td>111590.0</td>\n",
       "      <td>142820.0</td>\n",
       "      <td>177560.0</td>\n",
       "      <td>11</td>\n",
       "      <td>Management</td>\n",
       "    </tr>\n",
       "    <tr>\n",
       "      <th>4</th>\n",
       "      <td>11-3071</td>\n",
       "      <td>Transportation, Storage, and Distribution Mana...</td>\n",
       "      <td>0.590</td>\n",
       "      <td>0.000352</td>\n",
       "      <td>0.000124</td>\n",
       "      <td>0.000752</td>\n",
       "      <td>0.000319</td>\n",
       "      <td>0.000427</td>\n",
       "      <td>0.000413</td>\n",
       "      <td>0.000203</td>\n",
       "      <td>...</td>\n",
       "      <td>42.88</td>\n",
       "      <td>56.39</td>\n",
       "      <td>73.43</td>\n",
       "      <td>52670.0</td>\n",
       "      <td>68140.0</td>\n",
       "      <td>89190.0</td>\n",
       "      <td>117300.0</td>\n",
       "      <td>152730.0</td>\n",
       "      <td>11</td>\n",
       "      <td>Management</td>\n",
       "    </tr>\n",
       "  </tbody>\n",
       "</table>\n",
       "<p>5 rows × 73 columns</p>\n",
       "</div>"
      ],
      "text/plain": [
       "       SOC                                         Occupation  Probability  \\\n",
       "0  11-2031          Public Relations and Fundraising Managers        0.015   \n",
       "1  11-3011                   Administrative Services Managers        0.730   \n",
       "2  11-3051                     Industrial Production Managers        0.030   \n",
       "3  11-3061                                Purchasing Managers        0.030   \n",
       "4  11-3071  Transportation, Storage, and Distribution Mana...        0.590   \n",
       "\n",
       "   total_workers   Alabama    Alaska   Arizona  Arkansas  California  \\\n",
       "0       0.000199  0.000082  0.000205  0.000170  0.000099    0.000177   \n",
       "1       0.000828  0.000131  0.000724  0.000944  0.000613    0.001031   \n",
       "2       0.000524  0.000634  0.000150  0.000348  0.000563    0.000484   \n",
       "3       0.000219  0.000194  0.000178  0.000245  0.000169    0.000214   \n",
       "4       0.000352  0.000124  0.000752  0.000319  0.000427    0.000413   \n",
       "\n",
       "   Colorado  ...  H_MEDIAN  H_PCT75  H_PCT90  A_PCT10  A_PCT25  A_MEDIAN  \\\n",
       "0  0.000167  ...     51.59    73.06    98.61  59070.0  78710.0  107320.0   \n",
       "1  0.000396  ...     43.29    58.17    76.60  49270.0  66180.0   90050.0   \n",
       "2  0.000191  ...     46.70    61.34    79.54  58610.0  74670.0   97140.0   \n",
       "3  0.000132  ...     53.65    68.67    85.37  63380.0  82880.0  111590.0   \n",
       "4  0.000203  ...     42.88    56.39    73.43  52670.0  68140.0   89190.0   \n",
       "\n",
       "    A_PCT75   A_PCT90  group_code  group_name  \n",
       "0  151970.0  205110.0          11  Management  \n",
       "1  120990.0  159330.0          11  Management  \n",
       "2  127590.0  165450.0          11  Management  \n",
       "3  142820.0  177560.0          11  Management  \n",
       "4  117300.0  152730.0          11  Management  \n",
       "\n",
       "[5 rows x 73 columns]"
      ]
     },
     "execution_count": 42,
     "metadata": {},
     "output_type": "execute_result"
    }
   ],
   "source": [
    "major_group_d = {'group_name':['Management', 'Business and Financial Operations',\n",
    "                               'Computer and Mathematical', 'Architecture and Engineering',\n",
    "                               'Life, Physical, and Social Science', \n",
    "                               'Community and Social Service', 'Legal', \n",
    "                               'Education Instruction and Library', \n",
    "                               'Arts, Design, Entertainment, Sports and Media', \n",
    "                               'Healthcare Practitioners and Technical', 'Healthcare Support', \n",
    "                               'Protective Service', 'Food Preparation and Serving Related', \n",
    "                               'Building and Grounds Cleaning and Maintenance', \n",
    "                               'Personal Care and Service', 'Sales and Related', \n",
    "                               'Office and Administrative Support', \n",
    "                               'Farming, Fishing, and Forestry', 'Construction and Extraction', \n",
    "                               'Installation, Maintenance and Repair', 'Production', \n",
    "                               'Transportation and Material Moving'], \n",
    "                 'group_code':['11', '13', '15', '17', '19', '21', '23', '25', '27', '29', '31', \n",
    "                               '33', '35', '37', '39', '41', '43', '45', '47', '49', '51', '53']}\n",
    "major_group = pd.DataFrame(major_group_d)\n",
    "df['group_code'] = df['SOC'].str.split('-',expand=True)[0]\n",
    "df = df.merge(major_group, left_on='group_code',right_on='group_code')\n",
    "df.head()"
   ]
  },
  {
   "cell_type": "markdown",
   "metadata": {
    "ExecuteTime": {
     "end_time": "2021-03-14T02:36:01.079888Z",
     "start_time": "2021-03-14T02:36:01.067795Z"
    }
   },
   "source": [
    "### 3. Exploratory Data Analysis"
   ]
  },
  {
   "cell_type": "markdown",
   "metadata": {
    "ExecuteTime": {
     "end_time": "2021-03-14T02:28:31.514645Z",
     "start_time": "2021-03-14T02:28:21.946Z"
    }
   },
   "source": [
    "#### 3.1. Distribution of the probability of computerisation"
   ]
  },
  {
   "cell_type": "code",
   "execution_count": 43,
   "metadata": {
    "ExecuteTime": {
     "end_time": "2021-03-14T10:02:24.263824Z",
     "start_time": "2021-03-14T10:02:24.256842Z"
    }
   },
   "outputs": [
    {
     "name": "stdout",
     "output_type": "stream",
     "text": [
      "The highest probability of computerisation is  0.99\n",
      "The lowest probability of computerisation is  0.0028\n"
     ]
    }
   ],
   "source": [
    "print(\"The highest probability of computerisation is \",df.Probability.max())\n",
    "print(\"The lowest probability of computerisation is \",df.Probability.min())"
   ]
  },
  {
   "cell_type": "code",
   "execution_count": 44,
   "metadata": {
    "ExecuteTime": {
     "end_time": "2021-03-14T10:02:26.867975Z",
     "start_time": "2021-03-14T10:02:26.476024Z"
    }
   },
   "outputs": [
    {
     "data": {
      "image/png": "[encoded data removed]",
      "text/plain": [
       "<Figure size 360x360 with 1 Axes>"
      ]
     },
     "metadata": {},
     "output_type": "display_data"
    }
   ],
   "source": [
    "prob_plot = sns.displot(df,x=\"Probability\",bins=20);"
   ]
  },
  {
   "cell_type": "markdown",
   "metadata": {},
   "source": [
    "The distribution of automation probability is very wide ranged, from 0.0028 to 0.99. According the graph of the distribution of probability, we see that most occupations have a very small probability of computation or very high probability of computation. Few occupations have the probability of automation of between 20% and 40%."
   ]
  },
  {
   "cell_type": "code",
   "execution_count": 45,
   "metadata": {
    "ExecuteTime": {
     "end_time": "2021-03-14T10:02:34.153754Z",
     "start_time": "2021-03-14T10:02:33.507558Z"
    }
   },
   "outputs": [
    {
     "data": {
      "image/png": "[encoded data removed]",
      "text/plain": [
       "<Figure size 842.4x595.44 with 2 Axes>"
      ]
     },
     "metadata": {},
     "output_type": "display_data"
    }
   ],
   "source": [
    "df_float = df[['Probability','total_workers','TOT_EMP','EMP_PRSE','H_MEAN','A_MEAN','MEAN_PRSE',\n",
    "               'H_PCT10','H_PCT25','H_MEDIAN','H_PCT75','H_PCT90','A_PCT10','A_PCT25','A_MEDIAN',\n",
    "               'A_PCT75','A_PCT90']]\n",
    "ax = sns.heatmap(df_float.corr(),\n",
    "                cmap = sns.diverging_palette(20,220,n=200))\n",
    "ax.set_xticklabels(\n",
    "    ax.get_xticklabels(),\n",
    "    rotation=45,\n",
    "    horizontalalignment='right'\n",
    ");"
   ]
  },
  {
   "cell_type": "markdown",
   "metadata": {
    "ExecuteTime": {
     "end_time": "2021-03-14T07:49:46.005384Z",
     "start_time": "2021-03-14T07:49:45.972472Z"
    }
   },
   "source": [
    "The probability of computerisation is comparatively highly correlated with wage. Generally, occupations with lower probability of computerisation tend to have higher wages. On the other hand, the probability has weak correlation with the number of employees. To further confirm the correlation between probability of computerisation and the number of employees, we create another barplot."
   ]
  },
  {
   "cell_type": "code",
   "execution_count": 46,
   "metadata": {
    "ExecuteTime": {
     "end_time": "2021-03-14T10:14:48.309843Z",
     "start_time": "2021-03-14T10:14:44.036803Z"
    }
   },
   "outputs": [
    {
     "data": {
      "image/png": "[encoded data removed]",
      "text/plain": [
       "<Figure size 842.4x595.44 with 1 Axes>"
      ]
     },
     "metadata": {},
     "output_type": "display_data"
    }
   ],
   "source": [
    "df_state = df[['Probability']+popu_state]\n",
    "df_state_corr = df_state.corr().Probability[1:]\n",
    "ax = sns.barplot(x=df_state_corr.index,y=df_state_corr.values)\n",
    "ax.set_xticklabels(\n",
    "    ax.get_xticklabels(),\n",
    "    rotation=45,\n",
    "    horizontalalignment='right'\n",
    ");"
   ]
  },
  {
   "cell_type": "markdown",
   "metadata": {
    "ExecuteTime": {
     "end_time": "2021-03-14T08:47:43.414133Z",
     "start_time": "2021-03-14T08:47:43.385209Z"
    }
   },
   "source": [
    "From the above bar graph, we see that for each state, the correlation between probability and the population ratio is smaller than 0.15. Most of the states have a positive correlation, while DC has a negative and weak correlation, which is no lower than -0.05."
   ]
  },
  {
   "cell_type": "markdown",
   "metadata": {
    "ExecuteTime": {
     "end_time": "2021-03-14T09:58:48.937152Z",
     "start_time": "2021-03-14T09:58:48.931170Z"
    }
   },
   "source": [
    "#### 3.2. Occupation groups"
   ]
  },
  {
   "cell_type": "code",
   "execution_count": null,
   "metadata": {},
   "outputs": [],
   "source": []
  }
 ],
 "metadata": {
  "kernelspec": {
   "display_name": "Python 3",
   "language": "python",
   "name": "python3"
  },
  "language_info": {
   "codemirror_mode": {
    "name": "ipython",
    "version": 3
   },
   "file_extension": ".py",
   "mimetype": "text/x-python",
   "name": "python",
   "nbconvert_exporter": "python",
   "pygments_lexer": "ipython3",
   "version": "3.8.5"
  },
  "latex_envs": {
   "LaTeX_envs_menu_present": true,
   "autoclose": false,
   "autocomplete": true,
   "bibliofile": "biblio.bib",
   "cite_by": "apalike",
   "current_citInitial": 1,
   "eqLabelWithNumbers": true,
   "eqNumInitial": 1,
   "hotkeys": {
    "equation": "Ctrl-E",
    "itemize": "Ctrl-I"
   },
   "labels_anchors": false,
   "latex_user_defs": false,
   "report_style_numbering": false,
   "user_envs_cfg": false
  }
 },
 "nbformat": 4,
 "nbformat_minor": 4
}
